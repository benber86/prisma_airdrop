{
 "cells": [
  {
   "cell_type": "code",
   "execution_count": 3,
   "id": "f4213ea5-3c60-4f94-8e18-9058e2edf2a8",
   "metadata": {},
   "outputs": [],
   "source": [
    "from flipside import Flipside\n",
    "import pandas as pd\n",
    "import os"
   ]
  },
  {
   "cell_type": "code",
   "execution_count": 8,
   "id": "51977df0-724a-4afb-bd82-a9db09acd6ff",
   "metadata": {},
   "outputs": [],
   "source": [
    "API_KEY = os.environ.get('FLIPSIDE_API_KEY')"
   ]
  },
  {
   "cell_type": "markdown",
   "id": "7e760be5-8c5c-4bd8-9739-a0dd02a190a8",
   "metadata": {},
   "source": [
    "Pull data from Flipside. We first get balances of all uCVX, pxCVX, naked lpxcvx and Curve lpxcvx LP token holders at the last block eligible to vote on the Prisma whitelist proposal."
   ]
  },
  {
   "cell_type": "code",
   "execution_count": 56,
   "id": "5222b0b0-d0c1-4f0d-942d-fc6d9420fe5a",
   "metadata": {},
   "outputs": [],
   "source": [
    "flipside = Flipside(API_KEY, \"https://api-v2.flipsidecrypto.xyz\")\n",
    "\n",
    "sql = \"\"\"\n",
    "WITH RankedBalances AS (\n",
    "    SELECT\n",
    "        USER_ADDRESS,\n",
    "        block_number,\n",
    "        balance,\n",
    "        contract_address,\n",
    "        ROW_NUMBER() OVER(PARTITION BY USER_ADDRESS, CONTRACT_ADDRESS ORDER BY block_number DESC) as rank\n",
    "    FROM\n",
    "        ethereum.core.fact_token_balances\n",
    "    WHERE\n",
    "        (CONTRACT_ADDRESS = lower('0x8659fc767cad6005de79af65dafe4249c57927af') OR\n",
    "        CONTRACT_ADDRESS = lower('0xBCe0Cf87F513102F22232436CCa2ca49e815C3aC') OR\n",
    "        CONTRACT_ADDRESS = lower('0x389fB29230D02e67eB963C1F5A00f2b16f95BEb7') OR\n",
    "        CONTRACT_ADDRESS = lower('0x4de2ab8177fc5ffafb7ad11fb8beb1e5fb95f71c') )\n",
    "        AND\n",
    "        BLOCK_NUMBER <= 17830755\n",
    ")\n",
    "\n",
    "SELECT\n",
    "    USER_ADDRESS,\n",
    "    block_number,\n",
    "    balance,\n",
    "    contract_address\n",
    "FROM\n",
    "    RankedBalances\n",
    "WHERE\n",
    "    rank = 1 \n",
    "\"\"\"\n",
    "\n",
    "res = flipside.query(sql)"
   ]
  },
  {
   "cell_type": "code",
   "execution_count": 33,
   "id": "334ad5a4-e600-4ba0-9171-bf4ce3bea915",
   "metadata": {},
   "outputs": [],
   "source": [
    "TOKEN_MAP = {'0x8659fc767cad6005de79af65dafe4249c57927af': 'ucvx',\n",
    " '0xbce0cf87f513102f22232436cca2ca49e815c3ac': 'pxcvx',\n",
    " '0x389fb29230d02e67eb963c1f5a00f2b16f95beb7': 'lpxcvx',\n",
    " '0x4de2ab8177fc5ffafb7ad11fb8beb1e5fb95f71c': 'curve lp'}"
   ]
  },
  {
   "cell_type": "code",
   "execution_count": 62,
   "id": "e1df4890-8fff-4c4d-b666-850ec59e6303",
   "metadata": {},
   "outputs": [
    {
     "data": {
      "text/html": [
       "<div>\n",
       "<style scoped>\n",
       "    .dataframe tbody tr th:only-of-type {\n",
       "        vertical-align: middle;\n",
       "    }\n",
       "\n",
       "    .dataframe tbody tr th {\n",
       "        vertical-align: top;\n",
       "    }\n",
       "\n",
       "    .dataframe thead th {\n",
       "        text-align: right;\n",
       "    }\n",
       "</style>\n",
       "<table border=\"1\" class=\"dataframe\">\n",
       "  <thead>\n",
       "    <tr style=\"text-align: right;\">\n",
       "      <th></th>\n",
       "      <th>index</th>\n",
       "      <th>user_address</th>\n",
       "      <th>block_number</th>\n",
       "      <th>balance</th>\n",
       "      <th>contract_address</th>\n",
       "      <th>__row_index</th>\n",
       "      <th>token</th>\n",
       "    </tr>\n",
       "  </thead>\n",
       "  <tbody>\n",
       "    <tr>\n",
       "      <th>0</th>\n",
       "      <td>2</td>\n",
       "      <td>0x77e510353b9e75b3a8fbed61d0cef4849095773c</td>\n",
       "      <td>15182613</td>\n",
       "      <td>121.372655</td>\n",
       "      <td>0x8659fc767cad6005de79af65dafe4249c57927af</td>\n",
       "      <td>2</td>\n",
       "      <td>ucvx</td>\n",
       "    </tr>\n",
       "    <tr>\n",
       "      <th>1</th>\n",
       "      <td>6</td>\n",
       "      <td>0xc55e3bc5b6ee19d8d9a2fd233848cca2842eec59</td>\n",
       "      <td>15208412</td>\n",
       "      <td>186.768065</td>\n",
       "      <td>0x8659fc767cad6005de79af65dafe4249c57927af</td>\n",
       "      <td>6</td>\n",
       "      <td>ucvx</td>\n",
       "    </tr>\n",
       "    <tr>\n",
       "      <th>2</th>\n",
       "      <td>8</td>\n",
       "      <td>0x090e1fdc0cb866317751f0621884a203a8d797aa</td>\n",
       "      <td>17769170</td>\n",
       "      <td>4.122318</td>\n",
       "      <td>0x8659fc767cad6005de79af65dafe4249c57927af</td>\n",
       "      <td>8</td>\n",
       "      <td>ucvx</td>\n",
       "    </tr>\n",
       "    <tr>\n",
       "      <th>3</th>\n",
       "      <td>9</td>\n",
       "      <td>0x034ea2c4f55ae1c613ce1dc6ae231bac1b1ab10b</td>\n",
       "      <td>17230558</td>\n",
       "      <td>4187.837649</td>\n",
       "      <td>0x8659fc767cad6005de79af65dafe4249c57927af</td>\n",
       "      <td>9</td>\n",
       "      <td>ucvx</td>\n",
       "    </tr>\n",
       "    <tr>\n",
       "      <th>4</th>\n",
       "      <td>10</td>\n",
       "      <td>0x8ae6fd8eb06b3a02e3688196cac66de3f4edfe9e</td>\n",
       "      <td>15227620</td>\n",
       "      <td>33.418068</td>\n",
       "      <td>0x8659fc767cad6005de79af65dafe4249c57927af</td>\n",
       "      <td>10</td>\n",
       "      <td>ucvx</td>\n",
       "    </tr>\n",
       "    <tr>\n",
       "      <th>...</th>\n",
       "      <td>...</td>\n",
       "      <td>...</td>\n",
       "      <td>...</td>\n",
       "      <td>...</td>\n",
       "      <td>...</td>\n",
       "      <td>...</td>\n",
       "      <td>...</td>\n",
       "    </tr>\n",
       "    <tr>\n",
       "      <th>838</th>\n",
       "      <td>2067</td>\n",
       "      <td>0x8a72c47f190f2118227a83da784a2ce45c54f484</td>\n",
       "      <td>15758473</td>\n",
       "      <td>1021.553748</td>\n",
       "      <td>0x8659fc767cad6005de79af65dafe4249c57927af</td>\n",
       "      <td>2067</td>\n",
       "      <td>ucvx</td>\n",
       "    </tr>\n",
       "    <tr>\n",
       "      <th>839</th>\n",
       "      <td>2068</td>\n",
       "      <td>0xfab6735cfadd7b3fbb4a1383571629d576801d9c</td>\n",
       "      <td>15176170</td>\n",
       "      <td>629.318804</td>\n",
       "      <td>0x8659fc767cad6005de79af65dafe4249c57927af</td>\n",
       "      <td>2068</td>\n",
       "      <td>ucvx</td>\n",
       "    </tr>\n",
       "    <tr>\n",
       "      <th>840</th>\n",
       "      <td>2070</td>\n",
       "      <td>0xfb529f55f4a39d9a336cd1a15b489f07679f4932</td>\n",
       "      <td>15234058</td>\n",
       "      <td>143.67769</td>\n",
       "      <td>0x8659fc767cad6005de79af65dafe4249c57927af</td>\n",
       "      <td>2070</td>\n",
       "      <td>ucvx</td>\n",
       "    </tr>\n",
       "    <tr>\n",
       "      <th>841</th>\n",
       "      <td>2071</td>\n",
       "      <td>0x2c3545ceaed6d3cb326486ce01f156282fc7f9a5</td>\n",
       "      <td>15182613</td>\n",
       "      <td>78.873471</td>\n",
       "      <td>0x8659fc767cad6005de79af65dafe4249c57927af</td>\n",
       "      <td>2071</td>\n",
       "      <td>ucvx</td>\n",
       "    </tr>\n",
       "    <tr>\n",
       "      <th>842</th>\n",
       "      <td>2072</td>\n",
       "      <td>0x7fb920fafd32680391353e9a74afc156633e542d</td>\n",
       "      <td>17608694</td>\n",
       "      <td>1299.118896</td>\n",
       "      <td>0x8659fc767cad6005de79af65dafe4249c57927af</td>\n",
       "      <td>2072</td>\n",
       "      <td>ucvx</td>\n",
       "    </tr>\n",
       "  </tbody>\n",
       "</table>\n",
       "<p>843 rows × 7 columns</p>\n",
       "</div>"
      ],
      "text/plain": [
       "     index                                user_address  block_number  \\\n",
       "0        2  0x77e510353b9e75b3a8fbed61d0cef4849095773c      15182613   \n",
       "1        6  0xc55e3bc5b6ee19d8d9a2fd233848cca2842eec59      15208412   \n",
       "2        8  0x090e1fdc0cb866317751f0621884a203a8d797aa      17769170   \n",
       "3        9  0x034ea2c4f55ae1c613ce1dc6ae231bac1b1ab10b      17230558   \n",
       "4       10  0x8ae6fd8eb06b3a02e3688196cac66de3f4edfe9e      15227620   \n",
       "..     ...                                         ...           ...   \n",
       "838   2067  0x8a72c47f190f2118227a83da784a2ce45c54f484      15758473   \n",
       "839   2068  0xfab6735cfadd7b3fbb4a1383571629d576801d9c      15176170   \n",
       "840   2070  0xfb529f55f4a39d9a336cd1a15b489f07679f4932      15234058   \n",
       "841   2071  0x2c3545ceaed6d3cb326486ce01f156282fc7f9a5      15182613   \n",
       "842   2072  0x7fb920fafd32680391353e9a74afc156633e542d      17608694   \n",
       "\n",
       "         balance                            contract_address  __row_index  \\\n",
       "0     121.372655  0x8659fc767cad6005de79af65dafe4249c57927af            2   \n",
       "1     186.768065  0x8659fc767cad6005de79af65dafe4249c57927af            6   \n",
       "2       4.122318  0x8659fc767cad6005de79af65dafe4249c57927af            8   \n",
       "3    4187.837649  0x8659fc767cad6005de79af65dafe4249c57927af            9   \n",
       "4      33.418068  0x8659fc767cad6005de79af65dafe4249c57927af           10   \n",
       "..           ...                                         ...          ...   \n",
       "838  1021.553748  0x8659fc767cad6005de79af65dafe4249c57927af         2067   \n",
       "839   629.318804  0x8659fc767cad6005de79af65dafe4249c57927af         2068   \n",
       "840    143.67769  0x8659fc767cad6005de79af65dafe4249c57927af         2070   \n",
       "841    78.873471  0x8659fc767cad6005de79af65dafe4249c57927af         2071   \n",
       "842  1299.118896  0x8659fc767cad6005de79af65dafe4249c57927af         2072   \n",
       "\n",
       "    token  \n",
       "0    ucvx  \n",
       "1    ucvx  \n",
       "2    ucvx  \n",
       "3    ucvx  \n",
       "4    ucvx  \n",
       "..    ...  \n",
       "838  ucvx  \n",
       "839  ucvx  \n",
       "840  ucvx  \n",
       "841  ucvx  \n",
       "842  ucvx  \n",
       "\n",
       "[843 rows x 7 columns]"
      ]
     },
     "execution_count": 62,
     "metadata": {},
     "output_type": "execute_result"
    }
   ],
   "source": [
    "df = pd.DataFrame(data=res.rows, columns=res.columns)\n",
    "df['balance'] = df['balance'] * 1e-18\n",
    "df['token'] = df['contract_address'].apply(lambda x: TOKEN_MAP[x])\n",
    "df = df[df['balance'] > 1] # filter out dust holders\n",
    "df.reset_index(inplace=True)\n",
    "df"
   ]
  },
  {
   "cell_type": "code",
   "execution_count": 63,
   "id": "f056f986-c92d-46e6-a99f-b47f1fdbf73a",
   "metadata": {},
   "outputs": [
    {
     "data": {
      "text/plain": [
       "0.1      14.800963\n",
       "0.2      42.243721\n",
       "0.3      67.980345\n",
       "0.4     112.169609\n",
       "0.5     156.192959\n",
       "0.6     263.876846\n",
       "0.7     489.241576\n",
       "0.8     1056.54337\n",
       "0.9    3085.181236\n",
       "Name: balance, dtype: object"
      ]
     },
     "execution_count": 63,
     "metadata": {},
     "output_type": "execute_result"
    }
   ],
   "source": [
    "df['balance'].quantile([.1, .2, .3, .4, .5, .6, .7, .8, .9])"
   ]
  },
  {
   "cell_type": "markdown",
   "id": "4b5df87d-620b-495d-9806-b711ef1c62e4",
   "metadata": {},
   "source": [
    "## uCVX"
   ]
  },
  {
   "cell_type": "markdown",
   "id": "bfc05f15-37ae-4cc3-b19a-85fe79d04cc4",
   "metadata": {},
   "source": [
    "Get the uCVX to CVX exchange rate at the snapshot block"
   ]
  },
  {
   "cell_type": "code",
   "execution_count": 64,
   "id": "fc2ac304-a362-40f4-9bcc-444f5b8e0900",
   "metadata": {},
   "outputs": [],
   "source": [
    "from web3 import Web3\n",
    "\n",
    "ALCHEMY_API_KEY = os.getenv(\"WEB3_ALCHEMY_API_KEY\")\n",
    "w3 = Web3(Web3.HTTPProvider(f'https://eth-mainnet.alchemyapi.io/v2/{ALCHEMY_API_KEY}'))\n",
    "ABI = [\n",
    "    {\n",
    "        \"constant\": True,\n",
    "        \"inputs\": [{\"name\": \"shares\", \"type\": \"uint256\"}],\n",
    "        \"name\": \"convertToAssets\",\n",
    "        \"outputs\": [{\"name\": \"\", \"type\": \"uint256\"}],\n",
    "        \"payable\": False,\n",
    "        \"stateMutability\": \"view\",\n",
    "        \"type\": \"function\"\n",
    "    }\n",
    "]\n",
    "\n",
    "UCVX_CONTRACT_ADDRESS = \"0x8659Fc767cad6005de79AF65dAfE4249C57927AF\"\n",
    "contract = w3.eth.contract(address=UCVX_CONTRACT_ADDRESS, abi=ABI)\n",
    "rate = contract.functions.convertToAssets(int(1e18)).call(block_identifier=17830755)"
   ]
  },
  {
   "cell_type": "code",
   "execution_count": 65,
   "id": "e14bd18f-05e1-4a55-b47c-f40ba2355446",
   "metadata": {},
   "outputs": [
    {
     "data": {
      "text/html": [
       "<div>\n",
       "<style scoped>\n",
       "    .dataframe tbody tr th:only-of-type {\n",
       "        vertical-align: middle;\n",
       "    }\n",
       "\n",
       "    .dataframe tbody tr th {\n",
       "        vertical-align: top;\n",
       "    }\n",
       "\n",
       "    .dataframe thead th {\n",
       "        text-align: right;\n",
       "    }\n",
       "</style>\n",
       "<table border=\"1\" class=\"dataframe\">\n",
       "  <thead>\n",
       "    <tr style=\"text-align: right;\">\n",
       "      <th></th>\n",
       "      <th>index</th>\n",
       "      <th>user_address</th>\n",
       "      <th>block_number</th>\n",
       "      <th>balance</th>\n",
       "      <th>contract_address</th>\n",
       "      <th>__row_index</th>\n",
       "      <th>token</th>\n",
       "    </tr>\n",
       "  </thead>\n",
       "  <tbody>\n",
       "    <tr>\n",
       "      <th>0</th>\n",
       "      <td>2</td>\n",
       "      <td>0x77e510353b9e75b3a8fbed61d0cef4849095773c</td>\n",
       "      <td>15182613</td>\n",
       "      <td>162.914198</td>\n",
       "      <td>0x8659fc767cad6005de79af65dafe4249c57927af</td>\n",
       "      <td>2</td>\n",
       "      <td>ucvx</td>\n",
       "    </tr>\n",
       "    <tr>\n",
       "      <th>1</th>\n",
       "      <td>6</td>\n",
       "      <td>0xc55e3bc5b6ee19d8d9a2fd233848cca2842eec59</td>\n",
       "      <td>15208412</td>\n",
       "      <td>250.692129</td>\n",
       "      <td>0x8659fc767cad6005de79af65dafe4249c57927af</td>\n",
       "      <td>6</td>\n",
       "      <td>ucvx</td>\n",
       "    </tr>\n",
       "    <tr>\n",
       "      <th>2</th>\n",
       "      <td>8</td>\n",
       "      <td>0x090e1fdc0cb866317751f0621884a203a8d797aa</td>\n",
       "      <td>17769170</td>\n",
       "      <td>5.533241</td>\n",
       "      <td>0x8659fc767cad6005de79af65dafe4249c57927af</td>\n",
       "      <td>8</td>\n",
       "      <td>ucvx</td>\n",
       "    </tr>\n",
       "    <tr>\n",
       "      <th>3</th>\n",
       "      <td>9</td>\n",
       "      <td>0x034ea2c4f55ae1c613ce1dc6ae231bac1b1ab10b</td>\n",
       "      <td>17230558</td>\n",
       "      <td>5621.185503</td>\n",
       "      <td>0x8659fc767cad6005de79af65dafe4249c57927af</td>\n",
       "      <td>9</td>\n",
       "      <td>ucvx</td>\n",
       "    </tr>\n",
       "    <tr>\n",
       "      <th>4</th>\n",
       "      <td>10</td>\n",
       "      <td>0x8ae6fd8eb06b3a02e3688196cac66de3f4edfe9e</td>\n",
       "      <td>15227620</td>\n",
       "      <td>44.855884</td>\n",
       "      <td>0x8659fc767cad6005de79af65dafe4249c57927af</td>\n",
       "      <td>10</td>\n",
       "      <td>ucvx</td>\n",
       "    </tr>\n",
       "    <tr>\n",
       "      <th>...</th>\n",
       "      <td>...</td>\n",
       "      <td>...</td>\n",
       "      <td>...</td>\n",
       "      <td>...</td>\n",
       "      <td>...</td>\n",
       "      <td>...</td>\n",
       "      <td>...</td>\n",
       "    </tr>\n",
       "    <tr>\n",
       "      <th>838</th>\n",
       "      <td>2067</td>\n",
       "      <td>0x8a72c47f190f2118227a83da784a2ce45c54f484</td>\n",
       "      <td>15758473</td>\n",
       "      <td>1371.195256</td>\n",
       "      <td>0x8659fc767cad6005de79af65dafe4249c57927af</td>\n",
       "      <td>2067</td>\n",
       "      <td>ucvx</td>\n",
       "    </tr>\n",
       "    <tr>\n",
       "      <th>839</th>\n",
       "      <td>2068</td>\n",
       "      <td>0xfab6735cfadd7b3fbb4a1383571629d576801d9c</td>\n",
       "      <td>15176170</td>\n",
       "      <td>844.712244</td>\n",
       "      <td>0x8659fc767cad6005de79af65dafe4249c57927af</td>\n",
       "      <td>2068</td>\n",
       "      <td>ucvx</td>\n",
       "    </tr>\n",
       "    <tr>\n",
       "      <th>840</th>\n",
       "      <td>2070</td>\n",
       "      <td>0xfb529f55f4a39d9a336cd1a15b489f07679f4932</td>\n",
       "      <td>15234058</td>\n",
       "      <td>192.853452</td>\n",
       "      <td>0x8659fc767cad6005de79af65dafe4249c57927af</td>\n",
       "      <td>2070</td>\n",
       "      <td>ucvx</td>\n",
       "    </tr>\n",
       "    <tr>\n",
       "      <th>841</th>\n",
       "      <td>2071</td>\n",
       "      <td>0x2c3545ceaed6d3cb326486ce01f156282fc7f9a5</td>\n",
       "      <td>15182613</td>\n",
       "      <td>105.869054</td>\n",
       "      <td>0x8659fc767cad6005de79af65dafe4249c57927af</td>\n",
       "      <td>2071</td>\n",
       "      <td>ucvx</td>\n",
       "    </tr>\n",
       "    <tr>\n",
       "      <th>842</th>\n",
       "      <td>2072</td>\n",
       "      <td>0x7fb920fafd32680391353e9a74afc156633e542d</td>\n",
       "      <td>17608694</td>\n",
       "      <td>1743.761081</td>\n",
       "      <td>0x8659fc767cad6005de79af65dafe4249c57927af</td>\n",
       "      <td>2072</td>\n",
       "      <td>ucvx</td>\n",
       "    </tr>\n",
       "  </tbody>\n",
       "</table>\n",
       "<p>771 rows × 7 columns</p>\n",
       "</div>"
      ],
      "text/plain": [
       "     index                                user_address  block_number  \\\n",
       "0        2  0x77e510353b9e75b3a8fbed61d0cef4849095773c      15182613   \n",
       "1        6  0xc55e3bc5b6ee19d8d9a2fd233848cca2842eec59      15208412   \n",
       "2        8  0x090e1fdc0cb866317751f0621884a203a8d797aa      17769170   \n",
       "3        9  0x034ea2c4f55ae1c613ce1dc6ae231bac1b1ab10b      17230558   \n",
       "4       10  0x8ae6fd8eb06b3a02e3688196cac66de3f4edfe9e      15227620   \n",
       "..     ...                                         ...           ...   \n",
       "838   2067  0x8a72c47f190f2118227a83da784a2ce45c54f484      15758473   \n",
       "839   2068  0xfab6735cfadd7b3fbb4a1383571629d576801d9c      15176170   \n",
       "840   2070  0xfb529f55f4a39d9a336cd1a15b489f07679f4932      15234058   \n",
       "841   2071  0x2c3545ceaed6d3cb326486ce01f156282fc7f9a5      15182613   \n",
       "842   2072  0x7fb920fafd32680391353e9a74afc156633e542d      17608694   \n",
       "\n",
       "         balance                            contract_address  __row_index  \\\n",
       "0     162.914198  0x8659fc767cad6005de79af65dafe4249c57927af            2   \n",
       "1     250.692129  0x8659fc767cad6005de79af65dafe4249c57927af            6   \n",
       "2       5.533241  0x8659fc767cad6005de79af65dafe4249c57927af            8   \n",
       "3    5621.185503  0x8659fc767cad6005de79af65dafe4249c57927af            9   \n",
       "4      44.855884  0x8659fc767cad6005de79af65dafe4249c57927af           10   \n",
       "..           ...                                         ...          ...   \n",
       "838  1371.195256  0x8659fc767cad6005de79af65dafe4249c57927af         2067   \n",
       "839   844.712244  0x8659fc767cad6005de79af65dafe4249c57927af         2068   \n",
       "840   192.853452  0x8659fc767cad6005de79af65dafe4249c57927af         2070   \n",
       "841   105.869054  0x8659fc767cad6005de79af65dafe4249c57927af         2071   \n",
       "842  1743.761081  0x8659fc767cad6005de79af65dafe4249c57927af         2072   \n",
       "\n",
       "    token  \n",
       "0    ucvx  \n",
       "1    ucvx  \n",
       "2    ucvx  \n",
       "3    ucvx  \n",
       "4    ucvx  \n",
       "..    ...  \n",
       "838  ucvx  \n",
       "839  ucvx  \n",
       "840  ucvx  \n",
       "841  ucvx  \n",
       "842  ucvx  \n",
       "\n",
       "[771 rows x 7 columns]"
      ]
     },
     "execution_count": 65,
     "metadata": {},
     "output_type": "execute_result"
    }
   ],
   "source": [
    "UCVX_MERKLE = '0x6788234f40931ca615b0d221c1afbf0ec07afcc5'\n",
    "ucvx_df = df[(df['user_address'] != UCVX_MERKLE) & (df['token'] == 'ucvx')].copy()\n",
    "ucvx_df['balance'] = ucvx_df['balance'] * (rate * 1e-18)\n",
    "ucvx_df"
   ]
  },
  {
   "cell_type": "code",
   "execution_count": 66,
   "id": "3e918892-d072-4ecc-8e09-bd6654563aa6",
   "metadata": {},
   "outputs": [
    {
     "data": {
      "text/plain": [
       "'[{\"user_address\":\"0x77e510353b9e75b3a8fbed61d0cef4849095773c\",\"balance\":162.9141976823},{\"user_address\":\"0xc55e3bc5b6ee19d8d9a2fd233848cca2842eec59\",\"balance\":250.6921291445},{\"user_address\":\"0x090e1fdc0cb866317751f0621884a203a8d797aa\",\"balance\":5.5332411834},{\"user_address\":\"0x034ea2c4f55ae1c613ce1dc6ae231bac1b1ab10b\",\"balance\":5621.1855025022},{\"user_address\":\"0x8ae6fd8eb06b3a02e3688196cac66de3f4edfe9e\",\"balance\":44.855883555},{\"user_address\":\"0x8b7bdb4db9072902873556d60534a05a1a551c65\",\"balance\":88.4838019022},{\"user_address\":\"0xf23e1befc889ac30991762ed44fbd8ebf260419b\",\"balance\":3071.5755010817},{\"user_address\":\"0x304016db3eea6acccd988037fc9734a18d9dbea1\",\"balance\":105.0247329852},{\"user_address\":\"0xe4e52c6a0e560397412e0cf995044ac2377a480d\",\"balance\":79.1553284698},{\"user_address\":\"0xb47e9e28543e7810d5752a6b8bb53c5372300758\",\"balance\":879.3772416927},{\"user_address\":\"0xdf5d7312c229dd782bc1311cd98b57749e343c48\",\"balance\":843.561150206},{\"user_address\":\"0x4ff60a0e7f3c35a00537e5fa824de4dc17f15668\",\"balance\":94.3237302201},{\"user_address\":\"0x64623240360b6707f979f667e6137bb100b2cfef\",\"balance\":617.4242990412},{\"user_address\":\"0x3c5c884d512a4513c9c7440be3c2533175178a09\",\"balance\":2179.6488566824},{\"user_address\":\"0xeebecc6520f365afb5fc5d934b269a0af2415a89\",\"balance\":28.8753898948},{\"user_address\":\"0x46f5e620c326ee0275dbdfbdb98320dc0e816c1d\",\"balance\":39.1036291805},{\"user_address\":\"0x1b95b8a82966615a084397932bcbf514e2be6f20\",\"balance\":353.9528471623},{\"user_address\":\"0xe1403327e133ba40619c4ec045b71eac9f2a5582\",\"balance\":163.9936599371},{\"user_address\":\"0x8542ab72e61ac4a276c69a8a18706b5cd49b38ee\",\"balance\":122.0333434885},{\"user_address\":\"0x3af42e1100715a6e56abcadb3f7d700999fa6689\",\"balance\":35.5241140328},{\"user_address\":\"0x0d7886b429d9e2c6830eced628ba25be7cb1a994\",\"balance\":127.2862033095},{\"user_address\":\"0xe90b76eb5a320628df1d9e5103c5421d31bb7743\",\"balance\":512.0181736189},{\"user_address\":\"0xbf0f5a8762215d0b149c917952190c72f6448e0e\",\"balance\":99.7873824051},{\"user_address\":\"0x36804abb20cb8c19b860d3c9bf7219a88b8fc57a\",\"balance\":2193.5350110808},{\"user_address\":\"0x583ff17b8da2de83d7c245662407675b66e99406\",\"balance\":160.2679336921},{\"user_address\":\"0xf0fcb5b2ec2d511c4338f59528baafdaa1f3ff37\",\"balance\":606.3398452541},{\"user_address\":\"0x1a57854149bfdeaa9b542ed6384952fcd4511590\",\"balance\":184.3679409437},{\"user_address\":\"0x08e1465d6813fda7699de6d1a6c692f62d4521d7\",\"balance\":557.0904553245},{\"user_address\":\"0xe72fafd6859b6e496e3c380be3ab99472086ce17\",\"balance\":166.0695882548},{\"user_address\":\"0x5f0c3d977f5c5e11c32691d58e08efa824d931d1\",\"balance\":9.2598293526},{\"user_address\":\"0x535fb67556601f74ca4cd4199d815d11fb182895\",\"balance\":16.6749554743},{\"user_address\":\"0x578a03fc0106286312caad0fe0a53535ee275a6e\",\"balance\":284.439980851},{\"user_address\":\"0xa2c7ad60079eb9261ca497612ce5e6e33ed64dba\",\"balance\":562.6126467536},{\"user_address\":\"0x7b260069fdb5eee9252ebb42826b88fd75c910a3\",\"balance\":255.6983562144},{\"user_address\":\"0x1f4b810fbd4b2dfe070e297bb96f2616710bc518\",\"balance\":119.3184433311},{\"user_address\":\"0x394cd7079311099397cb50e57eb3a2e0de5ba957\",\"balance\":465.7215238835},{\"user_address\":\"0xa23712f42ee9ae1971bc0b233887c1831a4c69cb\",\"balance\":56.4685643098},{\"user_address\":\"0x9cb016669c235ccebcd2fbbffa2d8d3a2247b02c\",\"balance\":614.9832299036},{\"user_address\":\"0x9a8d8bfb7ff6fd39d078aaa4e0dce8f94b1773e8\",\"balance\":393.7727312411},{\"user_address\":\"0x2a3fd60d803f133fc4622da4e0ce0fa34002b13d\",\"balance\":3312.0177745251},{\"user_address\":\"0x8ce1792f3cbad9cc5a82c74092ba3b7cae87fa7f\",\"balance\":124.8591987465},{\"user_address\":\"0xe27fba2d264b8a12315b447d17d69a06fbab3f90\",\"balance\":35.0188117989},{\"user_address\":\"0x7aaee144a14ec3ba0e468c9dcf4a89fdb62c5aa6\",\"balance\":1418.0217742627},{\"user_address\":\"0xe49efdb44ab67f8377e59ae9027b0bf4eca9a091\",\"balance\":1.8844442289},{\"user_address\":\"0x913c37fca7f2cefeb5c45764d1235cf02458488a\",\"balance\":335.4705700471},{\"user_address\":\"0xb6dd6a4c3daed411a303d82c02f98aa49a322135\",\"balance\":200.9562922839},{\"user_address\":\"0x029d3e0f63a5c3515613b7450cc0810f5e2df871\",\"balance\":226.5560240969},{\"user_address\":\"0x785ec68fc030189a15f2b7fb4aecb19da70367f9\",\"balance\":32.5709936547},{\"user_address\":\"0x67b5fb289c4701596e28bc3622e1f0021ee3bd24\",\"balance\":273.5877953196},{\"user_address\":\"0x4d8222965d7ab82c5c4eed9ae7d55448c22c15d9\",\"balance\":97.6036127718},{\"user_address\":\"0x5a9071931db3eccade0fdef9e49d230c9872902f\",\"balance\":344.5253101253},{\"user_address\":\"0x2d049940375fb982f0daae93310b440342a85c32\",\"balance\":169.6965390764},{\"user_address\":\"0x2a0059610c92842dc2ef84af76b244c28687e647\",\"balance\":268.6749000201},{\"user_address\":\"0xc64d472cc19c2a9fae649ec2dcdcff87ca94f7de\",\"balance\":9684.4752605931},{\"user_address\":\"0xc155efbeb10ad1debedcd4f05dc0e669e5ba7e25\",\"balance\":89.1392617786},{\"user_address\":\"0xb3bdff7d489d625e1ea5c2ea989a11a6a1761c3c\",\"balance\":2551.303771037},{\"user_address\":\"0x4202e733eb2d17a92401fd75148d04ac1b28f1c3\",\"balance\":5877.8406710951},{\"user_address\":\"0x5062b397d2c7cab55581b38c554ad00d772d8f83\",\"balance\":450.2603746358},{\"user_address\":\"0x88efd347be1c37e67574a6f6464e54749a3d5ea5\",\"balance\":2534.1087519117},{\"user_address\":\"0x3b27944505847cb14f3f2983638d082c8d9526d0\",\"balance\":3649.6655787446},{\"user_address\":\"0xe66ac3d00b7a8f7056406a708455e14f1762ef47\",\"balance\":127.8603028059},{\"user_address\":\"0xe7927c9b9308264f6a0bbcc5c39e792a24ce1900\",\"balance\":6838.6399472988},{\"user_address\":\"0x162284452b81d2dd73d35223507c9d01b2fb5fb7\",\"balance\":92.6019646197},{\"user_address\":\"0x9d48a1c0c421e34ffa054c5dd4e9f31c31372e8e\",\"balance\":97.7393749587},{\"user_address\":\"0x0debad9e1dbbeb03c74a9964c30aff7a07f58dc8\",\"balance\":3293.6464411787},{\"user_address\":\"0x0c5715d4caf076e6669e529eaf0d2e05585f83c1\",\"balance\":89.0021281982},{\"user_address\":\"0xcaf0ca07e1dd3f716cd7f19cdd7f00b09c6a84b9\",\"balance\":1303.2916586857},{\"user_address\":\"0xe1de3cd6b105ec517df42fe55dc6258bdf2ef490\",\"balance\":74.8824467703},{\"user_address\":\"0xd20651c7ccc9f04d9a7be6e1406ecf90fe804013\",\"balance\":41.2488583474},{\"user_address\":\"0x5fe3b4ba4f0ead40e1f09ad755ce77e05fe47979\",\"balance\":65.0782316298},{\"user_address\":\"0x9be82cd40bffdce2336ba286abc7afca42dbabc7\",\"balance\":485.0400761138},{\"user_address\":\"0x7b83e8f25831fb5db94d0da032d72d2a67f1bcb4\",\"balance\":180.4160174757},{\"user_address\":\"0xcd2fefee67f239f16a6ecb1d810bc2185bd51713\",\"balance\":3104.1113020475},{\"user_address\":\"0x48cdf9617e9a4fc20b9b25bed4dd38af53867ead\",\"balance\":420.5238555196},{\"user_address\":\"0xe94d4206b4fac3b631b0e296867d8c85c3c1a672\",\"balance\":181.1048979758},{\"user_address\":\"0xe17756accb3b32854487463a4a689930df3b517b\",\"balance\":232.9172158301},{\"user_address\":\"0x8b7026dc260dc47637a4b0f9e1c660f65d5eba2f\",\"balance\":2.5826050304},{\"user_address\":\"0x4f1e9675aaf8eff4c98b59ee2b757e200ff7fb09\",\"balance\":122.3026861614},{\"user_address\":\"0x7b772c2e367607c6a9f21c3e792b63be1dbc0eb6\",\"balance\":67.2421351725},{\"user_address\":\"0x67ff091502684cbf80f0780a279ca36c53558a1c\",\"balance\":655.1781828912},{\"user_address\":\"0x7b9e02930322585fa8090e5c73a5bedb78dfcbed\",\"balance\":125.2513220419},{\"user_address\":\"0x6d0fc0917de891830b0e9bfca3f97c751df9c2f9\",\"balance\":520.3073003393},{\"user_address\":\"0xb1328907b14700379905d6d733fb0b31e46f3d62\",\"balance\":14.5040683544},{\"user_address\":\"0xfd1ebf10409c3a4aa0d3d840c543d1d0347f9c0c\",\"balance\":48.2939263678},{\"user_address\":\"0x0561a78021d8966ddd20c28c6c4318d8675ee1f0\",\"balance\":139.2114562754},{\"user_address\":\"0xc74ff56b8400ee7d68204854d3f6da536cf71a22\",\"balance\":1153.4966633492},{\"user_address\":\"0xfe7c5a6521fc4042780a18670163636b22df1a44\",\"balance\":1376.453375587},{\"user_address\":\"0xcb3d177b35587f6a3608f5b519fc6af89781049d\",\"balance\":674.5235745628},{\"user_address\":\"0x99a5e13e307867c809183fce9d56162825358678\",\"balance\":87.5334100483},{\"user_address\":\"0xd9b89570533da2eae9520956e6cc325cb3333f65\",\"balance\":181.0175181902},{\"user_address\":\"0xc47c4c896afe31e0c37ecdb54df7836313b6504c\",\"balance\":103.9040692519},{\"user_address\":\"0xa5f7b6ed26de95f1a2c18d6760c8df9996daa0a5\",\"balance\":62.0040751522},{\"user_address\":\"0x136c65a3f31682fcf683906ddbf3c76db2633f99\",\"balance\":5584.2702855055},{\"user_address\":\"0x279236757812c2d038b850e5e7cefcc8c6890f11\",\"balance\":5631.6546085997},{\"user_address\":\"0x3f67b94312cab5238e18696f84c33fe466f49fb2\",\"balance\":333.0639107365},{\"user_address\":\"0xdf3483d04bef1ab4123693a2b6529fa013d3818f\",\"balance\":93.970129642},{\"user_address\":\"0xe5859cbc7a5c954d33480e67266c2bbc919a966e\",\"balance\":3031.6691619929},{\"user_address\":\"0xeded11bbc997ca7fd24699d3a74428601979163d\",\"balance\":61.5829228725},{\"user_address\":\"0xd6f82502f20647dd8d78dffb6ad7f8d8193d5e29\",\"balance\":825.7947873881},{\"user_address\":\"0x0d0e234f3c2a0c34752a1dd0829fd3099e9c5731\",\"balance\":278.0964334799},{\"user_address\":\"0x9b97b2478a461376d1861c13161e2d34ff643bde\",\"balance\":24.797766656},{\"user_address\":\"0x48b58f0317956e24253d8a4e9121b686ba559eed\",\"balance\":478.2024050537},{\"user_address\":\"0x947d0f27467c5d9a50dc2e4fced5fc99fb8a0a62\",\"balance\":34.8639904479},{\"user_address\":\"0x3bc00c9b10a3a910a0bdba898f2e6d6ef3fe7289\",\"balance\":120.9032549059},{\"user_address\":\"0x69a0723fd2b11c867ec31e9e8f9b0611c9a670b7\",\"balance\":30102.1645063035},{\"user_address\":\"0x3239552200462c1b55ed83af498600e169b4022e\",\"balance\":5.9403822177},{\"user_address\":\"0x8dfefef2c80d6195a2dfc0c3c9cff24fb61e3167\",\"balance\":424.1946242806},{\"user_address\":\"0x006b4b47c7f404335c87e85355e217305f97e789\",\"balance\":657.8771954419},{\"user_address\":\"0x591bb09217615c2d8d9382337910d53dc8908134\",\"balance\":495.2060125276},{\"user_address\":\"0x7c8da84c4a4b4ba9bdad65332c6fd46bbb04b884\",\"balance\":67.4652621778},{\"user_address\":\"0x0264727fcb63f2cc6f3e92e5688a946959dcdfb3\",\"balance\":340.8010469964},{\"user_address\":\"0xe5e8b8679e31ca0eaac270dfde8362e6ec8154d1\",\"balance\":66.2351720568},{\"user_address\":\"0x49b8b7aedbc262a85542ce3276f25d7d07419e9a\",\"balance\":524.4238362166},{\"user_address\":\"0xbfb496acb99299e9ece84b3fd1b3fdd0f6cddf49\",\"balance\":2081.0737759404},{\"user_address\":\"0x93442eb8f90330704cfb2ba5da88d6bdddae6aa9\",\"balance\":915.0638757329},{\"user_address\":\"0x3836ca9b39d2e2f14ddb22015520f8a9171b71c2\",\"balance\":1508.1654564577},{\"user_address\":\"0x3505b95dbc8dbd895614f34ee8633ecbbaf35dc6\",\"balance\":215526.5066547253},{\"user_address\":\"0xbe4dafc2d31ccdcd6fec93156503d09cd5a1cef6\",\"balance\":169.2433713411},{\"user_address\":\"0xf56036f6a5d9b9991c209dcbc9c40b2c1cd46540\",\"balance\":401.589497706},{\"user_address\":\"0x47e53d33b5c0836c5071c8c3786c8af32814cf1a\",\"balance\":191.0910852293},{\"user_address\":\"0xe1561fa8445d7c9d625d8c2fd8efbe3ba571b7a8\",\"balance\":130.0069374132},{\"user_address\":\"0xb3a3b147fa1ae4934b714b294e28b78d0358340e\",\"balance\":425.5907322458},{\"user_address\":\"0x2d8ea9bcf57a8456085947ab4752f3f9104fc7db\",\"balance\":251.3571880472},{\"user_address\":\"0x68c14ce00c21d926aa14069f969c62d406ba293b\",\"balance\":1276.3890164957},{\"user_address\":\"0x9cfa2455ab78fabe23651f10551705de03a60533\",\"balance\":1107.8975806189},{\"user_address\":\"0xd05c8ed1c9237c35dbaa6dc451ce57292a7a1c3b\",\"balance\":121.8430726169},{\"user_address\":\"0x40b98c8e937476450825965a14f792b2e39ff74c\",\"balance\":173.9855419059},{\"user_address\":\"0x624be54fa569ad1c6e6ca27977e960f8b4fb6b7f\",\"balance\":118.3353295622},{\"user_address\":\"0xbb3d9d7dd056d4d610c6c38148c72cc7b81e7141\",\"balance\":6.1368618288},{\"user_address\":\"0x8ed1424adde83ab776545f982d913a19325a3ca8\",\"balance\":181.662849583},{\"user_address\":\"0x3b6011e49a629edbfdc5e9708861ff4d5979507c\",\"balance\":101.5336152916},{\"user_address\":\"0xaf297dec752c909092a117a932a8ca4aaaff9795\",\"balance\":8013.4079555896},{\"user_address\":\"0xc4cc95844a699a4bac94f24dba3750259805d2fb\",\"balance\":8354.716652272},{\"user_address\":\"0xe7cde885ab3100f16250dbf99d5c9d96836c62ac\",\"balance\":25.1949786517},{\"user_address\":\"0x006217c11f51611d9848d17550bc4b03fe02deb0\",\"balance\":194.4661523165},{\"user_address\":\"0xd4b757a9914031fe08c9063b5fa22f66d78ce487\",\"balance\":38.2214078676},{\"user_address\":\"0xea305d6dcf86d52a626dcce37e7ae8e566c33b9d\",\"balance\":4669.6032144313},{\"user_address\":\"0xd336d9daf5ffb76b7803a225c3d7aba65cce5bf5\",\"balance\":178.3102903184},{\"user_address\":\"0x09fa38eba245bb68354b8950fa2fe71f02863393\",\"balance\":1816.0844303254},{\"user_address\":\"0xc42a038e423aba5116f33ecb9dcb5cf933ec8fc3\",\"balance\":488.8171913908},{\"user_address\":\"0x5e04d0008e9c3dbe3298a30b274dc4adeee16eff\",\"balance\":123.8010094183},{\"user_address\":\"0x2912ba0e2527e1aae283da29a364544887f7e44b\",\"balance\":166.4369815724},{\"user_address\":\"0xbdb21e816e455e1642dbe8cef6668a62e180657b\",\"balance\":128.1495246017},{\"user_address\":\"0xfe26b0812ede6c2c9d4a80a6a1a43680a71cd275\",\"balance\":53.3706317437},{\"user_address\":\"0xd9c9c1d5985e0862342faa87bb79749868e2f83e\",\"balance\":236.4095524111},{\"user_address\":\"0x7a46a797641b9b7784a694775845b8eddea1540a\",\"balance\":158488.8783339924},{\"user_address\":\"0xca4c975ae064c74cf25657901d3935de3ddbf68b\",\"balance\":45.5699875023},{\"user_address\":\"0x20f765df18e77422a9f10ab5aa26876cb9028103\",\"balance\":169.9731683338},{\"user_address\":\"0x2cf64a56b184c90aedc5869be7654f607beb41a3\",\"balance\":77.8855229046},{\"user_address\":\"0xc64c6ccc24fa1c3a12c1809fd9fe32b3b9fa0520\",\"balance\":84.45883033},{\"user_address\":\"0xb965107cbbf38817e834f74b09be2049145d6b68\",\"balance\":253.7674168295},{\"user_address\":\"0xb88d3ade7e4231c97038f6d82475a233772ffc25\",\"balance\":623.2746015772},{\"user_address\":\"0x14d6bd1bad3f9d8526d1f319f680ce3d5af543c6\",\"balance\":253.0873249096},{\"user_address\":\"0xb4982f934db398cd4e1f24a581ebdf5df9ba4069\",\"balance\":325808.8684312567},{\"user_address\":\"0x1684fc1085f4d8e3196a9df242bd249d1ee42a74\",\"balance\":1189.5278036692},{\"user_address\":\"0x4daf8ce9d729ca4f121381ec4b22123627c1c004\",\"balance\":6.135769959},{\"user_address\":\"0x09f44fe6ad938bae7495e0b4939f83b4bff0feb8\",\"balance\":428.4782125718},{\"user_address\":\"0xc7ac422595da7c1aef9e2f1119a015272c27faf7\",\"balance\":23.0025362162},{\"user_address\":\"0x3818919ceb284e0ef790b739b63d35ec824eeda1\",\"balance\":52.4034097702},{\"user_address\":\"0xea63ac94a7ffab1a8a82e3b76da5dfeade80c4d5\",\"balance\":63.9708310001},{\"user_address\":\"0x790f54ae142a33ab64e6f558476eb1a6caab30dd\",\"balance\":1380.7889347091},{\"user_address\":\"0x4b75555f09a2c9329ddbeb184fec074757609bcf\",\"balance\":173.7116595394},{\"user_address\":\"0xb5f9883a9318f3c7bc50a40be24f975885fe13a5\",\"balance\":71.9118091713},{\"user_address\":\"0xa4762425c8164ad1ff136f5ea07bd5f5b51fecb6\",\"balance\":131.0147532713},{\"user_address\":\"0xbc5fba1fef0ba69e401cdf97197d75a5f9d9d4c6\",\"balance\":16.814491673},{\"user_address\":\"0x780737124207f40dbb2bcad58594fead6ae12db9\",\"balance\":4350.4243981812},{\"user_address\":\"0x8e8843c32fc273d78cef0b4f72b1164e61b12bcc\",\"balance\":116.0425489793},{\"user_address\":\"0x9b9f891063e16db065612683528be48362da3d89\",\"balance\":80.4132719785},{\"user_address\":\"0x55fcb0e499e763fa53ae26cd053d76c828ef4c9f\",\"balance\":217.8813291479},{\"user_address\":\"0x759af7be617647c1d1470aea4a03aa7bfb11f011\",\"balance\":1654.4322145498},{\"user_address\":\"0x21b52546d6b2451e461d81b7a3c89ddf4d65cd2e\",\"balance\":5.9765313927},{\"user_address\":\"0xfeac37ccc4afbc8ae635b510be41d2eac8e171ed\",\"balance\":356.5165817276},{\"user_address\":\"0x4e23ff0a4d054e7a34f087444d8a7128e6164091\",\"balance\":80.2832425122},{\"user_address\":\"0x9b5b56905fbbf64ed2edde80511344f7c977cbc8\",\"balance\":237.6586077617},{\"user_address\":\"0x9475729ac6d911a7b386cb5960e0c3c0a888ccff\",\"balance\":10.7396904541},{\"user_address\":\"0x6aa615f8df23f10603653769e19bf37458ec50d4\",\"balance\":1083.5919610861},{\"user_address\":\"0x1d44910e975215017cf75cbfdf05a0bb1edd113b\",\"balance\":136.4565556712},{\"user_address\":\"0xab797dac842ec13f3bee576b7bf4817591b72c52\",\"balance\":228.1162529513},{\"user_address\":\"0xa876bacae360632ddb9df729a51a6524025d2613\",\"balance\":4716.9158294138},{\"user_address\":\"0xa44247b333faf99c03c863bd713f034bd73f92a2\",\"balance\":14458.3293035877},{\"user_address\":\"0x5985e79f54fdeef4eff75201de5046a5411323d4\",\"balance\":61.6791098864},{\"user_address\":\"0x60f0e198c2157708a2188a19e4b86489d8549fe3\",\"balance\":4.27130016},{\"user_address\":\"0x128488ef50ab10cf368429195b9fdb6d29b245e5\",\"balance\":340.6104900979},{\"user_address\":\"0x8b1c29c397d4c487c2276f2d1bb3e2bd967d11bf\",\"balance\":8.808351182},{\"user_address\":\"0xc0c900871fffb8a3e8373d040a16d2b179398b40\",\"balance\":1140.2579750205},{\"user_address\":\"0xce7fbdc809b5628db20c840dffd9bce88befc8b8\",\"balance\":1815.828972309},{\"user_address\":\"0x485b369fbf23d32ffbdcb140a6b340e59677bf0f\",\"balance\":10.4825313133},{\"user_address\":\"0x88209babc7e7a53507148db9bb0007883f92000b\",\"balance\":57.015934385},{\"user_address\":\"0x32201a9acf337058536e3e727ee23584d3271bca\",\"balance\":122.2694574164},{\"user_address\":\"0xd6bf9d9079139dbb3a4fdb84b07efc75ea77838f\",\"balance\":154.6099479},{\"user_address\":\"0x13dabad6a1a25e3ca2f08f01a86a5ec39f1c1a8f\",\"balance\":51.4854814533},{\"user_address\":\"0xab15033649df6fe91c2c59293e5ae4e6c2e75dd8\",\"balance\":540.0440347416},{\"user_address\":\"0x8f23b1606eb4781dd99c6d7b6c3cefbfd376b58c\",\"balance\":9191.182519431},{\"user_address\":\"0xc6caaf025c30290843ac3a43f83a29afe7e0f041\",\"balance\":176.8306998657},{\"user_address\":\"0x7e6c1f1fdf09671376744c0dd96b560d503062e0\",\"balance\":6.863497745},{\"user_address\":\"0xdee7028101832cca78f1fa7331f4c9def10ccf85\",\"balance\":143.5082261657},{\"user_address\":\"0x150056437d48877118ea45b8dfa98e653b09293d\",\"balance\":12360.6689515599},{\"user_address\":\"0x2b30aca800e08922aa62d95307070f5ce2c306d4\",\"balance\":2322.7380426427},{\"user_address\":\"0x288316d0722458ccf10c84c7c4c756660cdd9a2b\",\"balance\":11193.8726133863},{\"user_address\":\"0xab2e11c99d8830d5d9b2494a565c974595e39eef\",\"balance\":2791.536817285},{\"user_address\":\"0xa8a9e2c366c56ce3968bbac981d1a063e58dfa85\",\"balance\":221.423733851},{\"user_address\":\"0xf967cb815d915f354168e769a61fca8f3c0a4930\",\"balance\":150.7397358071},{\"user_address\":\"0x36089364127a13793aba43c7df3ec9bf6fe9faab\",\"balance\":411.6617737628},{\"user_address\":\"0x3694e90893d3de8d9c1acc9d0e87eb9bd0d041ff\",\"balance\":745.7957996399},{\"user_address\":\"0x28552ea8b232fc63d6ce69692d8a723efc5d4502\",\"balance\":71.1336377588},{\"user_address\":\"0xcf0c43037e3a96f3c86c43cb90185359a7be3055\",\"balance\":86.3679592318},{\"user_address\":\"0x68c57f637b92db1f3c323b1fb4651091c4f0d229\",\"balance\":122.2001775342},{\"user_address\":\"0x2287f227d61c6e108da46a26af23f0674e5e3e29\",\"balance\":166.4177773795},{\"user_address\":\"0x65a1fe575b0b29291847704cbdd27436d840635e\",\"balance\":85.1515314572},{\"user_address\":\"0x69a35492113d8dece5de61835402f92de39f6753\",\"balance\":59.9986606026},{\"user_address\":\"0xfaa6d9afaf8d92326b81afd3c5c7986c1edfc014\",\"balance\":274.4828551396},{\"user_address\":\"0xb69ac064a177181ae26b8a8c9d94615bcd8bda0b\",\"balance\":257.6079016791},{\"user_address\":\"0xf34e789bdf38f18ca74032730707133419252a36\",\"balance\":95.8261519028},{\"user_address\":\"0xbc5b552641e5d203f0a6c230aa9dc14da7450053\",\"balance\":2147.6230834989},{\"user_address\":\"0x80673b190bf0db65d6b3aae43c91a2422ded0e6e\",\"balance\":369.7940502018},{\"user_address\":\"0xd792b9d938424645996c6a6fef667d45f2bdb5eb\",\"balance\":3158.1722932161},{\"user_address\":\"0x790b685db3415a88e5a23e533ed944ffe69ca060\",\"balance\":380.0240905429},{\"user_address\":\"0x7d354d291a7e750672bc9002c2323a112f9de719\",\"balance\":1575.0244408445},{\"user_address\":\"0x34562f196abe29319cd9d1fb2fae9331cc9e5fde\",\"balance\":117.6929075588},{\"user_address\":\"0xaac312a95cd45dee23451a5812e687d932354937\",\"balance\":8795.5990264655},{\"user_address\":\"0xf4c564a926114ac95a0f66182d71084b5b79434d\",\"balance\":119.6658135521},{\"user_address\":\"0x82738b0ebc1d667765cb9cdeb4a2a96da6e6a77a\",\"balance\":609.091568659},{\"user_address\":\"0x5bf1362a5f5e03cf1962164d4ec428f7a18a21d2\",\"balance\":4345.4472395691},{\"user_address\":\"0xa7958bd4d31f69bcb0964ba3fe1e92843fc94c99\",\"balance\":210.6155180375},{\"user_address\":\"0xd1cb63835ee46439b9c9047123d691e5a1f258c3\",\"balance\":120.5227246933},{\"user_address\":\"0x4fa4bb9d235785d893edbdc91332ff2656b710ab\",\"balance\":9.3772438514},{\"user_address\":\"0xe08c5582ee27947ca5b0b6084ecd775e8c448769\",\"balance\":108.2803695732},{\"user_address\":\"0xa4f0b6899ca568df1595a3d12054499e5e1c9faf\",\"balance\":263.1146187648},{\"user_address\":\"0x73ab450be9e1a2f421f262b8052af3cff5822cb3\",\"balance\":2.1313315722},{\"user_address\":\"0x32f7f7706c7d8ba5db315a4c81d1b50182efb142\",\"balance\":167.9155307513},{\"user_address\":\"0x019947394428cd14f11facfe2b22c9421315887d\",\"balance\":301.5225325284},{\"user_address\":\"0xe250a35e364337b3e2f260804234defbdd69c444\",\"balance\":58.5063063377},{\"user_address\":\"0x1f194c6a5b535393d28ddf8025f7f2d87dc68467\",\"balance\":355.1511266399},{\"user_address\":\"0x8c5ea053d8c1d67f9f0312f734591fa9f084b14f\",\"balance\":8148.9189783191},{\"user_address\":\"0x453907c0a75e6d698c6a9430e831c41f50c2522e\",\"balance\":2179.5486115499},{\"user_address\":\"0x20907a020a4a85669f2940d645e94c5b6490d1ad\",\"balance\":1797.8415997828},{\"user_address\":\"0x4ad8c6d982ea20c6b105c480c866fef79dde36db\",\"balance\":7073.3269216382},{\"user_address\":\"0xc78163f8c600ea7568c146ec29d5232a341584f3\",\"balance\":3794.9171983794},{\"user_address\":\"0xb711a51a97a86b065b7a1fd917e7ec881bdbb570\",\"balance\":24.0049493222},{\"user_address\":\"0x1868ce22e19d052c724e63a912056b1f3d19b49a\",\"balance\":28.7294112517},{\"user_address\":\"0xe751970824f3bcbf97e611e351c1136776be1ce9\",\"balance\":428.7996229946},{\"user_address\":\"0xaf1f459738f427247617e139c3c0ca4311daf14a\",\"balance\":2946.0596640034},{\"user_address\":\"0xc56bc1a93909508b0f6e57a32a5c2cc8b4940c08\",\"balance\":69.2912602722},{\"user_address\":\"0x4f1a63e53e67be6ba0f497d91a3259686d41a540\",\"balance\":6209.7313618398},{\"user_address\":\"0xb0fae6175f7e8719885fe0d02c473977c30446fa\",\"balance\":189.855951937},{\"user_address\":\"0xba9a2686d2e9b15bc9d4011f018fabb9e299b22b\",\"balance\":377.4704832458},{\"user_address\":\"0x40e68311c599c3aff70cd9042cc81667d46a1769\",\"balance\":108.9655498404},{\"user_address\":\"0x68ca8331c46f2124f3f5b970939f4eacb05b1005\",\"balance\":155.8421102597},{\"user_address\":\"0x6801c82ce9c282877ef7f847a0a408472c00312b\",\"balance\":66.7831883143},{\"user_address\":\"0x78daa97ae763af3c8af20925b2467347eff3c08a\",\"balance\":21.8446372034},{\"user_address\":\"0x813f37c3c4592d1aaa91d9d41751431f5e2b3ccf\",\"balance\":1899.8162858789},{\"user_address\":\"0x794035131cf2c8b5df811346abef12f6ee4c8dbb\",\"balance\":154.8825018001},{\"user_address\":\"0xc84d724a8ecbc4e1f8a500831101c3ef553e3b48\",\"balance\":213.8186970307},{\"user_address\":\"0x2a70d336c35df198691ce976601688e96647d7ec\",\"balance\":51.1600275983},{\"user_address\":\"0x08003f6a0843a0d2bc4223be96c1e1bed9e0ddac\",\"balance\":525.1111634159},{\"user_address\":\"0x908bdb4ee673e526b553357551fcda55c659d132\",\"balance\":2458.2753383879},{\"user_address\":\"0x9c16c5fd8395a388cbab5d3845ebfe50cfa741e4\",\"balance\":32.7826843096},{\"user_address\":\"0xc871e14826586d22e4abddbf6741c941842fc8bf\",\"balance\":133.1917036311},{\"user_address\":\"0x3c77b46a1c3e7d1109b909be6b02069f92514185\",\"balance\":17.1110678948},{\"user_address\":\"0xb0efbc2ae8f66c87ebdab5648bb0cc17328a1597\",\"balance\":5.8664107376},{\"user_address\":\"0x693ee0d0754d8d953c6b4833b522a49d1a8daa59\",\"balance\":1599.917667806},{\"user_address\":\"0xccc0323147d36ec86a9dc37d8f731125589b59a0\",\"balance\":1029.9693825472},{\"user_address\":\"0xa86f7cb847bf41b049002cb0c96e6156a8b27e25\",\"balance\":2479.4727806838},{\"user_address\":\"0xfd350d24087db7ef3d730ea57f04bbde7f95786d\",\"balance\":6.5176036302},{\"user_address\":\"0x02d4bc45e55f325a0a20f5831b60e1f55918aba8\",\"balance\":8.8252354382},{\"user_address\":\"0xda73a489a87d223d5252529fb1d37faaceb47cd0\",\"balance\":261.8441980753},{\"user_address\":\"0xcec536d6c6edf36d400dea111667a5fff873cb92\",\"balance\":1023.7645607965},{\"user_address\":\"0xf5096073d1bc819b28decf9e178ffb8a8c6af11a\",\"balance\":1501.2814626851},{\"user_address\":\"0x3727faa0c88e986691f795545cdc2471378886ba\",\"balance\":19436.0243503522},{\"user_address\":\"0xeab7668d1ef5d556e69765a4bb7bc2619228b122\",\"balance\":23.1577501833},{\"user_address\":\"0xb98a2d64bcf154238c3f2ac9922544ae0d4989d8\",\"balance\":492.7465677791},{\"user_address\":\"0x891d4f0d6f5232dec42af5266bc4f9becbead690\",\"balance\":174.4603691545},{\"user_address\":\"0xde9d0b17ecbf2a7930c540539ff1f04836d2c7d1\",\"balance\":212.649975518},{\"user_address\":\"0xc851ed6f7b9e0b0bc20998c9fd6a133fe978ac1b\",\"balance\":183.1540775254},{\"user_address\":\"0x5d4d3fae4d0282fd8a558b5f42ba700974cbfd1a\",\"balance\":63.5684843976},{\"user_address\":\"0xfea257550b79d7d55e3ca67bc5886b3996e5dd2a\",\"balance\":114.9937554766},{\"user_address\":\"0xc368116787b7c9ef83c08b0a0993e99e119e080c\",\"balance\":218.9200972821},{\"user_address\":\"0xfd4f24676ed4588928213f37b126b53c07186f45\",\"balance\":155.5446016779},{\"user_address\":\"0xab12253171a0d73df64b115cd43fe0a32feb9daa\",\"balance\":155.3478910017},{\"user_address\":\"0x763174935371c7feb14e2a1696eea3bcb5c8cf05\",\"balance\":92.0333149455},{\"user_address\":\"0x1aa4040a25e500650c606b9c07c8243c5b9e3b6e\",\"balance\":81.7309730245},{\"user_address\":\"0xe14a13b8eb93b6569a748ea57a1a97025fc82be9\",\"balance\":11.2231791089},{\"user_address\":\"0x651e7b9b250986a7749db5dca5ee4152422ef88f\",\"balance\":1834.3449232854},{\"user_address\":\"0xa336df6c87f53688b1b384276af7d4be90edfdc7\",\"balance\":31.585468912},{\"user_address\":\"0x4a604be86c7b5f2b62b2bad6d9f8b2ea25e6e34f\",\"balance\":312.1289071352},{\"user_address\":\"0x6456d1f83ad6923e2a503a7daa768bb775b55339\",\"balance\":4135.78232493},{\"user_address\":\"0x54a3001e201fc21aa4a2c42457a77406c34a31a9\",\"balance\":24.9324564919},{\"user_address\":\"0x359cee1c09ffd9cea494ce1140dd5964c267ed76\",\"balance\":263.3220995428},{\"user_address\":\"0xd69fa19919fb3e065ea1b240d09802b09c776b33\",\"balance\":206.672317006},{\"user_address\":\"0x863a3dc56a345ea43610e7a840b264fec3ca4c09\",\"balance\":835.6688183116},{\"user_address\":\"0x3e604b0c39e38ab3babd79883efe6d0a266d6d85\",\"balance\":34.5810698577},{\"user_address\":\"0x193641ea463c3b9244cf9f00b77ee5220d4154e9\",\"balance\":711.2144778759},{\"user_address\":\"0xaa9d5cdadec5b530fa6d9cbb5905e38742629134\",\"balance\":1828.5085702899},{\"user_address\":\"0xecb286e435256b948be1eb3e2c08fb9d6b979647\",\"balance\":60.8295792936},{\"user_address\":\"0x037dfd569defbc08ae28001159b4c49f6d006cff\",\"balance\":1.5148968579},{\"user_address\":\"0xe0a46db77fe3932a901214bfa0a1389d3e996332\",\"balance\":7.8598598981},{\"user_address\":\"0x69b4ca45501d10eca776730addad3794132765f3\",\"balance\":3748.9035589989},{\"user_address\":\"0xb888f9f40f6007c06681306bba976f5e25691e1b\",\"balance\":622.1008971097},{\"user_address\":\"0x4abc33cf81e0d21f42168d044f7002edd6b80b09\",\"balance\":3800.4352622545},{\"user_address\":\"0x0a73768ccb841a820f0847ab065d67468a06d7f2\",\"balance\":39.5370835581},{\"user_address\":\"0xb721262e075ad4073ebe4560161a88fef8c82dcd\",\"balance\":11.024745449},{\"user_address\":\"0x87e32d4631d728d6ad7ebcd133b11febc9da9b93\",\"balance\":1454.9471844324},{\"user_address\":\"0x0356f06f0a7c77bf7c1dc546c706a7483f931b65\",\"balance\":93.8123774753},{\"user_address\":\"0xd42c4e4769c390ba1dc6668505eb2a40398a2bb7\",\"balance\":50.3293685171},{\"user_address\":\"0x5ba323cc3e4b01ded640fc78c8948dcfb8f298cd\",\"balance\":35.8536205226},{\"user_address\":\"0x851ef0a28922435675c77d505601e625f65ff088\",\"balance\":995.1321447675},{\"user_address\":\"0x247c075529dfd7e540728f255a57a7a772a6a865\",\"balance\":84.9417042493},{\"user_address\":\"0xc9534b4bd96a32daaddc247e9632044772862802\",\"balance\":286.7770425548},{\"user_address\":\"0xcb9df70e38a806b452220324a963c26723d4d0fd\",\"balance\":327.8956293524},{\"user_address\":\"0x404f7b8b95f9b57d1ac463777f22ad8c37c12e89\",\"balance\":321.8436906353},{\"user_address\":\"0xc5418f34f30ada0be885d556a2230dc3be823485\",\"balance\":349.4998671004},{\"user_address\":\"0x29145a97ce4c1e9ce820fc61f275b7253b09ae4f\",\"balance\":174.782089757},{\"user_address\":\"0xc07059d489ca3213615420bc23d17d3ab72b1c6c\",\"balance\":656.1540166531},{\"user_address\":\"0xe5504e8109e032bc5d961e4f3c358705104e198e\",\"balance\":69.6631022688},{\"user_address\":\"0xa066eb53ba93c09564501cc712cbee4797ea035c\",\"balance\":2532.8183031002},{\"user_address\":\"0x11d90384a6a580e3ca11e4806c5d1e89c7b7eeb4\",\"balance\":1103.3249591403},{\"user_address\":\"0x9305e034ae82f14d5a9f23c6bd542a8c08ab8133\",\"balance\":48.3040547327},{\"user_address\":\"0xd3349f4943c36bb050c6ce602f914ca94e5205cf\",\"balance\":946.175855804},{\"user_address\":\"0xaef6ea60f6443bad046e825c1d2b0c0b5ebc1f16\",\"balance\":19473.1110463073},{\"user_address\":\"0x523e2ce4851b9b352e149fcfadc5195dc1511c87\",\"balance\":287.145693461},{\"user_address\":\"0x812a5d6b5621f07fb286bc0daeafe975c78619bc\",\"balance\":644.2942653615},{\"user_address\":\"0xd219b5b7ffc7fede25e27f4b93d808a781039746\",\"balance\":33.4958908739},{\"user_address\":\"0x14e6b828adb52153e5bf7c740a1a7312ef4b8711\",\"balance\":1004.4285532774},{\"user_address\":\"0x6448cccf2bc0405bd8fa7f07857a1b24a51aada2\",\"balance\":197.3074935597},{\"user_address\":\"0x00ca1f4765e3f9820f9cc2fbd3732d5f908d0a6f\",\"balance\":20337.5026920184},{\"user_address\":\"0x9d0f63a1f277f96fa7361af622b0d719b22a37f5\",\"balance\":1513.915216536},{\"user_address\":\"0xee0e9252fa434bf28b295124636172871407af5a\",\"balance\":186.6114530148},{\"user_address\":\"0x18289dbc899458c43876eae794ce1a9b29bdf7c0\",\"balance\":1117.8489343894},{\"user_address\":\"0x806db6c5cbdaa7dee05c001863fae510a5fe6871\",\"balance\":58.17953537},{\"user_address\":\"0x7cdbd9adb6e9acdd7815126bce0836643d8573df\",\"balance\":1505.8065497302},{\"user_address\":\"0xa47af4174e109b7eccd182729f067b6d8d3d91d9\",\"balance\":42.011533736},{\"user_address\":\"0xba7ed11ae26defc54f5edbb84c8cca46e46d4875\",\"balance\":78.2059870818},{\"user_address\":\"0xdccf874db86f932c99f49ee7da5f2fa49001979a\",\"balance\":146.4016560207},{\"user_address\":\"0xb2ded6d859d4d789bf52f2ee8473a3307b642970\",\"balance\":268.5719932193},{\"user_address\":\"0x221421411f3b209bbae7e1845e51b3e4ecfde190\",\"balance\":17.7831110949},{\"user_address\":\"0xf2c929c22d491c2a2c4ec92ec6c2c11e6b861428\",\"balance\":12979.7370846554},{\"user_address\":\"0xc288fd9cbaa2354ab66cba9504fd2b4491388b05\",\"balance\":104.6483355401},{\"user_address\":\"0xa61f32f921f35c22eb74696b14e97cd1ff2adffa\",\"balance\":262.5408153242},{\"user_address\":\"0x86cca45ea6e8fae0497d40e8fdf96249cf14cc30\",\"balance\":167.2452621649},{\"user_address\":\"0x8dba03f9b5018effc8d7620ef235760383c17f8f\",\"balance\":779.8160159145},{\"user_address\":\"0x189e52934d6cb392ec7d2617535a5ea528a48942\",\"balance\":15.4388457341},{\"user_address\":\"0xbc7a598d212d3fcc725b5b2b95c4fbf1db8c9687\",\"balance\":94.1583769194},{\"user_address\":\"0xc5f5d3fcacc76ffdbbeff27c071386fd81bad892\",\"balance\":117.0790892751},{\"user_address\":\"0xb288093cb4f53d6f9b2a76750179ccbfafcbbe38\",\"balance\":1705.5317213193},{\"user_address\":\"0xcb07091c0870c0fa2c9918de56d5b30e9d1f12ee\",\"balance\":905.2745984361},{\"user_address\":\"0x4f0896aadd5b52c4e268d0224b9ed8dc61a68cea\",\"balance\":209.6522528998},{\"user_address\":\"0x9f1528f9fd43efd58f257f48a9d71f0bb21ec161\",\"balance\":925.2884490869},{\"user_address\":\"0xe6ea93f39c33858b8b5e053d022caafeff3de9bf\",\"balance\":7588.9160826413},{\"user_address\":\"0x121ee2b015888a6d0d4a925ea41c0caf78c8d54a\",\"balance\":525.6964073578},{\"user_address\":\"0xd31fde46afce438662cac68765dfd5a19dbc168c\",\"balance\":88.3073327777},{\"user_address\":\"0xb17bcf20831cc8fb1d201609aa5efbcffc4dc3d2\",\"balance\":3660.3817103614},{\"user_address\":\"0x928fc474b1b48de9739edeb1a6fd764cfb99b3c9\",\"balance\":10633.3277383299},{\"user_address\":\"0x9437e277c8ee0815943dabf393179e0dbd9b0739\",\"balance\":149.8474359336},{\"user_address\":\"0x2f2e191b905ed0fccfd1c12356ceacc9d84126f8\",\"balance\":1398.0152095544},{\"user_address\":\"0xdac11260ea26aa7ace35f846ab7e389bd50c75ad\",\"balance\":754.4769419029},{\"user_address\":\"0x6d9e4fc81dd16914693d61044b3c9f641ed71cd6\",\"balance\":55.3577334156},{\"user_address\":\"0x306feaa9d555b0f97719352043ddc03b2f108dbd\",\"balance\":348.3276943992},{\"user_address\":\"0x75428661ad4f91f609451b72de2603d875ff1a56\",\"balance\":83.0352900607},{\"user_address\":\"0x1830c41eedea4f101688f1aa6b2c2ef9370ad48d\",\"balance\":268.7996783621},{\"user_address\":\"0x91d947daa437f790bf8fbe1e81fd3eda403796bf\",\"balance\":533.1887180304},{\"user_address\":\"0x5b2fc2ea4666474ce9702f0e8bf260cb9e79ad36\",\"balance\":5020.4231698855},{\"user_address\":\"0xc674c53df7272c80834adc9452c0193d897c5de1\",\"balance\":138.3996885664},{\"user_address\":\"0xf5eaf9a0086067933b056946cb768d3d78033d8f\",\"balance\":279.547022831},{\"user_address\":\"0x27b4ccb700a16d3929ec26852f73a735bb152d61\",\"balance\":178.8313751784},{\"user_address\":\"0x54d5d65f4d4d740b8f3bfdf4cf24f0e39251ae28\",\"balance\":861.9635136987},{\"user_address\":\"0xd45aaeefd4683608e610bcfd7e119efdf80aa4fa\",\"balance\":5463.028716744},{\"user_address\":\"0x698561e6c1b7f33ba7b3d4882180b4cc67fdda8b\",\"balance\":2102.7264808974},{\"user_address\":\"0x31a4e239bc3db64bba25823c8ac97687cc65237b\",\"balance\":178.3321634972},{\"user_address\":\"0x7696665ad545e3e98bc61b4deb99ec08014e3316\",\"balance\":149.6585434983},{\"user_address\":\"0x7bfee91193d9df2ac0bfe90191d40f23c773c060\",\"balance\":245.5293974744},{\"user_address\":\"0x16f562fb6587a19e19761654adb195f8bc879b5d\",\"balance\":1497.8827765807},{\"user_address\":\"0x4daa2b7a5b6f54342bc02e53b838f9e3bf633c81\",\"balance\":44.8554785909},{\"user_address\":\"0x3027f407d501b9ba1b480b79dd16edc846658437\",\"balance\":580.1589551729},{\"user_address\":\"0x3b8bfa3190c800e2d628dba2f3b62ed1be3f96dc\",\"balance\":164.2863504922},{\"user_address\":\"0x73670040fe316cec70cb988b3405c2d65d35f026\",\"balance\":1496.9084606809},{\"user_address\":\"0x0d277979cba73e3233d239b7a44740ec84d1c2cf\",\"balance\":84.5054744081},{\"user_address\":\"0x59ccc3154abc9445960e041b7f4dea19cc9ebd19\",\"balance\":12.2600979585},{\"user_address\":\"0x717c05bb13b3b50c0996ca3067c7bf93528353a4\",\"balance\":173.5727612719},{\"user_address\":\"0x467e2adbb1319a1f46fe312964b0dd4c8f9b4fb0\",\"balance\":994.2510140856},{\"user_address\":\"0xbb910758b48932b8f56226d39ebda0aef1111029\",\"balance\":179.1206075103},{\"user_address\":\"0xf3d9b8f6af674e82943b4685728b00d13a62fc9e\",\"balance\":67113.2213593392},{\"user_address\":\"0xab29b0fa76166235f7e280b5f4b3920dfc99b2f5\",\"balance\":65.1732261122},{\"user_address\":\"0x80b8e5bc47948288bbd1050fef3f49135c217b5f\",\"balance\":1008.8528596919},{\"user_address\":\"0x220f7b41bce4b772fea718f0bf408a51c6d02d29\",\"balance\":87.1108755478},{\"user_address\":\"0x44ab682f63f0f896aa8abb9a930b2c61f335c4e7\",\"balance\":6.9772227416},{\"user_address\":\"0xacc0e80e3cccede7d2948ab542700bb9499d2623\",\"balance\":26.354410056},{\"user_address\":\"0x441ace24afb1d17621d3ec78d3911ee2297d993d\",\"balance\":3217.9545986534},{\"user_address\":\"0x4ac7bb5afb71a529cda1219ff69c7d45d32a50c4\",\"balance\":3.4009733348},{\"user_address\":\"0x2a288b37c33b01facd3ddf1789dbf8e2883fdb40\",\"balance\":14.4546787121},{\"user_address\":\"0xf5dc17962a6e7c45fe7568c11fa5bdec8888101f\",\"balance\":189.4667407966},{\"user_address\":\"0xa086415eb7b7d6094cc681e75a6120fe33066200\",\"balance\":41708.1477631772},{\"user_address\":\"0x8c61b706f93741151630dd6c5fdb7f848092409a\",\"balance\":20.5935835899},{\"user_address\":\"0x3fef4dbe04f2a9b136624eb153aec9907a61dc7c\",\"balance\":133.7438693822},{\"user_address\":\"0x7da3317501a5341c43edee250c79c227ac28bbec\",\"balance\":304.7595238284},{\"user_address\":\"0xddf3c6f19bd3185626108ab04790b4d916b5f840\",\"balance\":121.9767551195},{\"user_address\":\"0xeb590b1bbddb4116fbccbd006979fb95bf34f0e0\",\"balance\":14.7689224072},{\"user_address\":\"0x8920a5404bc7f13a90e26d1d8ef083e2b8bfa739\",\"balance\":76.9916153504},{\"user_address\":\"0x35fad8ef938cbcd5ea3414b38602e9dd489b5c8a\",\"balance\":85.9746513644},{\"user_address\":\"0xcd97cc251b2b2af1cc602e4fd82b4435ae80511e\",\"balance\":87.7848282394},{\"user_address\":\"0xdd3ad87eba1916b38c3473e2cb043561bfaad155\",\"balance\":23.4295567006},{\"user_address\":\"0xade6f18bb6fa9644274f2d789323f96bcfd06cf3\",\"balance\":1311.0770187237},{\"user_address\":\"0x8570ea89b47fb12675e8e8fff9642ee3cea467b1\",\"balance\":165.9589692919},{\"user_address\":\"0x234252dc1c014e1d68fc6bf6f04c319c530e87e5\",\"balance\":158.1178315179},{\"user_address\":\"0xf3e11d89b07e738f31de12e8d8cfa0eac7867a37\",\"balance\":3.9188335967},{\"user_address\":\"0x346f1d297c98c28574742b067b67a80cda2dc0d9\",\"balance\":46191.661130263},{\"user_address\":\"0xf4c2949edc28b09fbab45f4f6b15634f4a27df3c\",\"balance\":189.0118155281},{\"user_address\":\"0xb97f255b37eef7d47dbe1debbecd1f2ecfc37abe\",\"balance\":3348.4456699966},{\"user_address\":\"0xe1aa547c12611f2956d4a741198d30d38664792c\",\"balance\":91.1374982933},{\"user_address\":\"0xdb5b4853ceabf6d8e08d73fddfa80f507ef9fba4\",\"balance\":6.1156881928},{\"user_address\":\"0x5b5cfc5d48a33b1ae2c733a765411c8804c246a3\",\"balance\":3410.1772017636},{\"user_address\":\"0x5286886a821a0a845de4e0ff61a15acd91ad69a0\",\"balance\":173.373347588},{\"user_address\":\"0x84119e837dbef0f4fb877681687a2869b220533b\",\"balance\":4142.4656997283},{\"user_address\":\"0x5ba5b1ed55acef2854274691062eeaa4281660a5\",\"balance\":175.8529295749},{\"user_address\":\"0xf140ab9c48c380e283b92ce95419ba66343f45c3\",\"balance\":4.7866330948},{\"user_address\":\"0x0e3843a33072db8f97ed2ea32fb9122a0b0b17e9\",\"balance\":1619.5185100214},{\"user_address\":\"0x83a59ce2ef545c019e77c542552ec0f0f58402b6\",\"balance\":4052.8751571562},{\"user_address\":\"0x576a98eba3e57b41c920d290417c7afd1730d7d6\",\"balance\":125.6103134063},{\"user_address\":\"0xe4295a6625737caffe89c3aeafd8e93b734d53a6\",\"balance\":513.5180756876},{\"user_address\":\"0x5668ead1edb8e2a4d724c8fb9cb5ffeabeb422dc\",\"balance\":1081.686934712},{\"user_address\":\"0x9bf3d011283aafc989392f123741ab5c3e9960de\",\"balance\":145.9555419484},{\"user_address\":\"0xe07226315b223032ef745781870c9a155ae0c88a\",\"balance\":191.8134683809},{\"user_address\":\"0x6cdd03d102c53d09570c095eda3e3fc76aedfd1a\",\"balance\":167.1063396507},{\"user_address\":\"0xa0f8301450a402225a74d6d8aae5e9564ee9bc95\",\"balance\":91.3209985156},{\"user_address\":\"0xd3b1b31d661f7d159b48411739e5b4ad24e6aa07\",\"balance\":22.8194716956},{\"user_address\":\"0x45d91f56b20fa72e49decddccfe241fd11e6677e\",\"balance\":158.1412245891},{\"user_address\":\"0xd1720e80f9820a1e980e5f5f1b644cde257b6bf0\",\"balance\":32.9800350054},{\"user_address\":\"0x08fc3efd10a7003729fe5d69521757472511b1a0\",\"balance\":2160.651812506},{\"user_address\":\"0x1fc5e290a5ee6287e960c80c625a52dca6a9648d\",\"balance\":39.4204191153},{\"user_address\":\"0xa6fb1a1fff573466295ed477219ca1419bc9a400\",\"balance\":88.2064044808},{\"user_address\":\"0x8697e3bf296496bfee7bcfcfd0dca278843f8bba\",\"balance\":12198.065679025},{\"user_address\":\"0x1df1e9f19f4f030f5ccb0687833edb69ee6128c1\",\"balance\":542.5693621661},{\"user_address\":\"0x5e83ac852d212af18b027ba84656602a6a752e24\",\"balance\":43.9501724106},{\"user_address\":\"0x6dfbc34f20498a0d5ec4295264eff0f30c7f15b8\",\"balance\":186.3562831463},{\"user_address\":\"0x7d112a6724dfe4506a3bbfa29ded117bf8d332a4\",\"balance\":28.7417739529},{\"user_address\":\"0x1a2db6595b40e0b762c58310e3f7af8a281d2eb5\",\"balance\":44.2380676529},{\"user_address\":\"0x2b217eaa3dd4fddf03372a8d7834afafc2bc6835\",\"balance\":4966.5116909251},{\"user_address\":\"0x7c7a2be7acce741268be71728199e08ed952f73d\",\"balance\":212.9417819581},{\"user_address\":\"0x3cc4d5e7d3f4ae8cdb34d1a011b07b00309b556f\",\"balance\":29.4958739085},{\"user_address\":\"0x07a92f07b414157f1b51dc6363c4e41483c9ae30\",\"balance\":413.8459828595},{\"user_address\":\"0x2308baa3100bbb2a94233eafbdcb8f6b8d593308\",\"balance\":997.1473789704},{\"user_address\":\"0x5538793f0ed24fd4ea2fcd5225a40995a8f5ac3a\",\"balance\":923.7793215751},{\"user_address\":\"0x970879751d9053f6c0c3168b853df5fde2870ba5\",\"balance\":38.9623896125},{\"user_address\":\"0x11df5312e21b7172063e8d8f4d0944fe460e92de\",\"balance\":46.5389648522},{\"user_address\":\"0x2d6b114c77f3355f204c37f657c680157e85dfa5\",\"balance\":1474.7977792691},{\"user_address\":\"0x96c96e695f1ecfd6b932a0b81a223b59d48e2c36\",\"balance\":123.1047600761},{\"user_address\":\"0xc7a142aa3e3a0a615e4cc41ec55dbcbc1d9f3975\",\"balance\":414.2932576775},{\"user_address\":\"0x473c3552e15ca2d7ebbb6ba0af9bcc478c8a2b72\",\"balance\":86.0171152101},{\"user_address\":\"0xd220df609462ed0e9ce688fc31e8253348a1e5e5\",\"balance\":156.4255742657},{\"user_address\":\"0x1f8cd3bcf78c9315ad41c61f8785825c3efadd0b\",\"balance\":314.7069279275},{\"user_address\":\"0xa245c02ffe219317199c46cfc814586a4ab3f472\",\"balance\":405.8129300792},{\"user_address\":\"0x311174382e68187e7a6200b02030de7dfa6340a8\",\"balance\":986.7669544759},{\"user_address\":\"0xde93a283495fa2834047b53871a8e4e09f96d841\",\"balance\":417.2863992515},{\"user_address\":\"0xffcfa5f7b994aeb4c6931e0a6cd95d8984e038ce\",\"balance\":548.9118408129},{\"user_address\":\"0xd946b3a3694864358dca0cd641d72263e032a0c8\",\"balance\":2.2264270448},{\"user_address\":\"0x022ca32d31da3ef85922aafd9ad29c5b2418172c\",\"balance\":2504.2624084739},{\"user_address\":\"0x4432e64624f4c64633466655de3d5132ad407343\",\"balance\":8158.563492533},{\"user_address\":\"0x31c4295e963c0c5b960c11f95412b08f8652ee02\",\"balance\":423.7458080013},{\"user_address\":\"0x0999a13d74291eab3a3f7c1b57434004cd6a464a\",\"balance\":1242.5847660182},{\"user_address\":\"0x12f890b7108e43c7ee3e28685b3c32df5cf28761\",\"balance\":65.3003586957},{\"user_address\":\"0x9c775669d78ff321b35796babd19987ba5a91fd5\",\"balance\":525.9118391319},{\"user_address\":\"0xebeef50df44cb2638f60c0fa50ddf6317b640b44\",\"balance\":104.3858311453},{\"user_address\":\"0x4219d331d3e26935061f975da99dbf19405197d5\",\"balance\":349.7767769489},{\"user_address\":\"0x2cc99afaf23aa95f03c4aa2989881aa1bf5f6ba9\",\"balance\":82.4113808135},{\"user_address\":\"0x99d99cfbf96807d3c08aeea4280fd765a3ad635a\",\"balance\":24.7296994377},{\"user_address\":\"0x7d6fb901ede872b89b2778b9cae5ff0dbc7aba4b\",\"balance\":83.9452499407},{\"user_address\":\"0x19e7feccdbeef55cdf6640ae0ed987fdb7764a5c\",\"balance\":28.8065767552},{\"user_address\":\"0x913c9cd8df10a53057b92fe452bc5b0f7a5dea4d\",\"balance\":661.3343098016},{\"user_address\":\"0x0398e2723d65ad1e78c58eb036deb5e1a59e806d\",\"balance\":474.7453884851},{\"user_address\":\"0x5795dc26a4f4ac25084eb721c9f32812e2038294\",\"balance\":85.487721797},{\"user_address\":\"0xef1555a5b28fe857998b546eb6bc04c8fc1a23c5\",\"balance\":30.2427268152},{\"user_address\":\"0x41b72ebc7d6c9f54f8405964897184b0ec9b9814\",\"balance\":299.5655624706},{\"user_address\":\"0xe5bd4d6af0da545e4a9ae2adfafc5eb5ff829054\",\"balance\":77.7045606369},{\"user_address\":\"0x60d5424fecac58aefd1a071ba225f9ad1b5e4f2c\",\"balance\":479.0871788206},{\"user_address\":\"0xd3ea7f7ef554922cd13a4aa8672c5b304d3ef9d7\",\"balance\":228.4003169122},{\"user_address\":\"0xd14f07c73da1ce12f85294890920c694e1a8a1c8\",\"balance\":504.7236752791},{\"user_address\":\"0x41f0ab034f636dd68dc1ab225c37d8b43e249c49\",\"balance\":332.4161807582},{\"user_address\":\"0x9bbb5476491bbc5c052c8a8c67d0c07fb077f978\",\"balance\":57.9241327128},{\"user_address\":\"0xe1d79b0faa2de1b1a4de6202e10965585ed69cb2\",\"balance\":287.2091218271},{\"user_address\":\"0x840985487ea3c7b26c11059c19871faf37d08ebd\",\"balance\":142.7407138796},{\"user_address\":\"0x105818a325684136244cc8c387311d2ec05e0548\",\"balance\":207.9662357691},{\"user_address\":\"0x5c9bacecd5a7e94b4db5d954745dd97c0ea000d5\",\"balance\":2092.9847938204},{\"user_address\":\"0x60a0019f67ca72efa41d8b6ca06a25ed5c7d1c44\",\"balance\":18.3908197209},{\"user_address\":\"0x10f24fbc2a4addf445adf143beb5e4236319f50b\",\"balance\":322.2611434532},{\"user_address\":\"0x20cd51b97d135eee334a8f5169f45bbe7921670a\",\"balance\":396.7398314069},{\"user_address\":\"0xd71bdcca5cccfe4c6a2cd5ce586e978a3cd81693\",\"balance\":250.6491083938},{\"user_address\":\"0x0907742ce0a894b6a5d70e9df2c8d2fadcaf4039\",\"balance\":265.867877517},{\"user_address\":\"0x17fb4db24b8f1817bc33d6e167b105fd77599c28\",\"balance\":324.7186362759},{\"user_address\":\"0x0a0ae914771ec0a5851049864ccc27b1baa8cd43\",\"balance\":1351.0351952789},{\"user_address\":\"0xfad534797744bfe8afff4d679cbf3e771884acf2\",\"balance\":166.7804418371},{\"user_address\":\"0xd52e38eb4a63f50073c06ed43c612b59099d714c\",\"balance\":149.4493972938},{\"user_address\":\"0x0d66c1d2bfad401d80dc43eef4d024d0c462e790\",\"balance\":171.1001280777},{\"user_address\":\"0x64ea5a109a6f8d5ca30f9565b0d7f72de781ce7d\",\"balance\":14.9923792615},{\"user_address\":\"0x6c01ec9622e50799d62ca076f2e2aa34dc840d5b\",\"balance\":886.1883900844},{\"user_address\":\"0x670fbcd11fd54908cabe97384f0d2785d369dcd5\",\"balance\":51913.7760738904},{\"user_address\":\"0x2a878245b52a2d46cb4327541cbc96e403a84791\",\"balance\":77.7865062651},{\"user_address\":\"0x56a6b552e15b467320519decfaa283be8dda5579\",\"balance\":17.462548303},{\"user_address\":\"0x5a333c5aaed62aa473e404169f9f8f989be5dbfd\",\"balance\":83.1011375639},{\"user_address\":\"0xe2c98c6fe23c02d9870e7cf186db51b465ddaaf4\",\"balance\":235.1140469528},{\"user_address\":\"0x28d06dfe0052f48825f52c616f0a25d6ad3c502d\",\"balance\":9127.8924825924},{\"user_address\":\"0x465abf4c65c27948dda6f53e4bda22b36cbbb5f3\",\"balance\":12.9284969206},{\"user_address\":\"0x5ba3a6fda585f79a3fb60e0ca1713a5c97a5d376\",\"balance\":65.2129563787},{\"user_address\":\"0x96f1433960111cb58c4107bc4ac2fbd6d3bc5360\",\"balance\":986.2907376919},{\"user_address\":\"0xfd94fb2f07a4a0cb5c8b88c7a4346dded36f2b1d\",\"balance\":78.0342894759},{\"user_address\":\"0x15379608e6dda569951be7cfb3f16f8a02217e21\",\"balance\":165.9691632572},{\"user_address\":\"0xbb2dffaa9273244fdea056f399b6ad1df3469125\",\"balance\":117.0728033082},{\"user_address\":\"0x7c022a1b89050ce82d2eda14cb06de02ba1c7f5a\",\"balance\":683.2548080085},{\"user_address\":\"0xd5407e5ae541ce55074bba0824b1f8e1726f6ad8\",\"balance\":245.9664986271},{\"user_address\":\"0x7d07a0cb99278f3d27abb8b4306c885555854eb0\",\"balance\":387.2596627146},{\"user_address\":\"0xc3be098f9594e57a3e71f485a53d990fe3961fe5\",\"balance\":84.4477683128},{\"user_address\":\"0x58c0a5f11469ea49ad1bf0ad0d25a5cae582dd0a\",\"balance\":265569.0519027319},{\"user_address\":\"0xdf2503116a1dc9af476e1efd099b432b35331d25\",\"balance\":132.4187755731},{\"user_address\":\"0xcc96c4b6449a86dbafaeeebb1efde2165e02400e\",\"balance\":70.599182201},{\"user_address\":\"0x3fb77798be0fd086af1fd7d4baed257a42ca050d\",\"balance\":7339.2964262242},{\"user_address\":\"0xe73ba8c97be1999705ac74f3e046687a173d4afb\",\"balance\":463.6798140784},{\"user_address\":\"0x3f5fc40d7c5a6f9e1ed13af4274c8d14e49e32b2\",\"balance\":373.4790422323},{\"user_address\":\"0xce9a64d8fd62f515befea0dfb58376c03b111f73\",\"balance\":821.6773621024},{\"user_address\":\"0x83da67563d87c874dc6df95af5e0822a98414e74\",\"balance\":1350.1811980691},{\"user_address\":\"0x0da1863867b986bd44230d47aa328bcce59aa6a4\",\"balance\":90.5098653827},{\"user_address\":\"0x16b8a6f431394ea784e4d1d20be5c9e077e9a0ae\",\"balance\":2623.4758497638},{\"user_address\":\"0xedd9ada94a26193b2c25d390a4fbb82e5278a166\",\"balance\":10.5777980165},{\"user_address\":\"0x21c469281f1081ba0c51bff8fc3b3986ea194c97\",\"balance\":91.4735372384},{\"user_address\":\"0x89f85e035283f5d4ed9d08d6236b8ba90b963b5e\",\"balance\":36.4923861697},{\"user_address\":\"0xf78f886444ab19e77510d01d06d0bb198e748fc1\",\"balance\":19.3833492044},{\"user_address\":\"0xc7cbc2b8b6ead19bde69590b0cd06d7ccc602736\",\"balance\":289.5345332751},{\"user_address\":\"0x42f653a1849b05bb6390e7aeb6bc15ff1a926760\",\"balance\":47.6362446912},{\"user_address\":\"0x305d1239e09103efed3f8a0e5e3770345ced81d6\",\"balance\":8124.8411039116},{\"user_address\":\"0xb2ff1d9db3ad541905b20107c40ef4290b8321c0\",\"balance\":18.0210148303},{\"user_address\":\"0x3b68b1322691292415d51da7049200b796bc2060\",\"balance\":1151.805451755},{\"user_address\":\"0x4d7e1efbca2d8f54937d86afe82700594b047432\",\"balance\":86.5166210211},{\"user_address\":\"0xc2d5904602e2d76d3d04ec28a5a1c52e136c4475\",\"balance\":9321.1087006479},{\"user_address\":\"0xa219712cc2aaa5aa98ccf2a7ba055231f1752323\",\"balance\":561.2804844873},{\"user_address\":\"0x1e5d9570192508b9361492df00475c1a524c5305\",\"balance\":75.9772984089},{\"user_address\":\"0x26b7eb97b9be22e96cdeabe53e6a6be8d5ed4a6d\",\"balance\":168.3759473467},{\"user_address\":\"0x8ca6e9a06a7a3b115c53f3e9a82c6be12ebde388\",\"balance\":515.1053295401},{\"user_address\":\"0xba2ef5189b762bd4c9e7f0b50fbbab65193935e8\",\"balance\":320.6675761067},{\"user_address\":\"0x5141e313dca2307b02c8bcfbdf73fcbaf051fe5c\",\"balance\":1068.4670244859},{\"user_address\":\"0x327a001fc673fa8a384c2ec024cdb395671927ea\",\"balance\":29.7418951776},{\"user_address\":\"0x043796319db3b8601013477f9473064f22df527c\",\"balance\":348.9138334428},{\"user_address\":\"0xa5254c2ad5a59e716cbf015b7b910e605ee30804\",\"balance\":38.7134116891},{\"user_address\":\"0xa06b4f71b94ec6b59e0633c015772d3f1efdf7ca\",\"balance\":610.0866352752},{\"user_address\":\"0x9fbbe60183a84878171a8a5795fb28c6105aebb0\",\"balance\":614.0083037512},{\"user_address\":\"0xec91e709ded36128c01e7f9975b8e26e3f24b16c\",\"balance\":42.2490967161},{\"user_address\":\"0xd641002a712f8f2b45b93ae56843b4277af9b20a\",\"balance\":927.4093371263},{\"user_address\":\"0xe992a2c76b43978303be7cde9a72ed24c7e09b24\",\"balance\":93.4014251041},{\"user_address\":\"0x1af44615ff10bdafc7b787e9835047391015f94a\",\"balance\":13.8627727775},{\"user_address\":\"0x9a650fbfe1611598c6fb3c62a2feaaa7effbe12b\",\"balance\":106.8579088903},{\"user_address\":\"0xfb5a236271a886af976ff7a4d78a59821c046669\",\"balance\":206.3016854314},{\"user_address\":\"0xf104b7626d219a33b15b6a17c0016ab007603330\",\"balance\":7917.365934417},{\"user_address\":\"0x8950fa87a542ee0c0c3c81ceb76b0c65ceb74a62\",\"balance\":130.3351190108},{\"user_address\":\"0x37de2f99bf85ebc078cfcfe6bbc6b58f5d8c0b65\",\"balance\":3605.7422512992},{\"user_address\":\"0x41ceebaeb36e7c4755de8c0aec18ece2aa25b1b0\",\"balance\":405.0781829074},{\"user_address\":\"0x1cdeb8ca898078f1be41aa5da4ed0adecee35770\",\"balance\":93.176238493},{\"user_address\":\"0x6e7107a18b4591de60f362249a3b34f29eaa822d\",\"balance\":14.8364125894},{\"user_address\":\"0x0b2bc27be4e2be46acaee245383f7fdd0402a874\",\"balance\":264.0638704054},{\"user_address\":\"0x97871e6133bcff0c197ca29acfd5250319651494\",\"balance\":92.9925196111},{\"user_address\":\"0xb670359a3719b4de42baf5c548e5d53637b19b94\",\"balance\":1391.5699098824},{\"user_address\":\"0x8cb8184f44016e8dfea6dcd429ab7530565f836d\",\"balance\":266.0185081983},{\"user_address\":\"0xf08214cbe3527cf4fd65bfce128e32c6eedd2174\",\"balance\":4231.7047458645},{\"user_address\":\"0xf286e07ed6889658a3285c05c4f736963cf41456\",\"balance\":865.228766053},{\"user_address\":\"0xe4f077bf767a57ae9aad77b0ab54cbde0bede65a\",\"balance\":1542.8339437536},{\"user_address\":\"0x743f83a6f83c528d03c833e7b9753b479953931a\",\"balance\":994.7007809891},{\"user_address\":\"0x08934e21381282f5aa6162bb4a55aaf26a42d367\",\"balance\":195.0997313889},{\"user_address\":\"0x569feaa77cd01782a93d8533ace4400efd746d4a\",\"balance\":259.8526010665},{\"user_address\":\"0xb88e3c784257f62284c0c1d2c49af4e3ad2b02ad\",\"balance\":30.3301967886},{\"user_address\":\"0xc74d2a13f645572d656460275defc2103661d157\",\"balance\":188.4418817426},{\"user_address\":\"0x0dde2e438d72e54c8d2e81f1bf51f42646e6c467\",\"balance\":7970.0851232113},{\"user_address\":\"0xcb6222f4df04385ea08e8da2a5871131ff5f6cba\",\"balance\":349.3955326951},{\"user_address\":\"0xf9b1ed033c2ba9cfdc15b62036814789a70af79e\",\"balance\":182.3376780214},{\"user_address\":\"0xdfee40a82276d9bcfa3c346988cc1e83a664e276\",\"balance\":312.8939497407},{\"user_address\":\"0x69e69571d0d07edbede6c43849e8d877573ee6bf\",\"balance\":6.1437978993},{\"user_address\":\"0x38b7679b72e53ad2902f9cb888478b7651f826e2\",\"balance\":179.079293963},{\"user_address\":\"0x3f3b9b0f14def5817a61437ccb25ccbbd4853ffd\",\"balance\":13693.5465482429},{\"user_address\":\"0x6c7bdc3ee8ef7b9e1db29e5a9c9cef919376e37d\",\"balance\":860.1571236795},{\"user_address\":\"0xa7f0fdee39e4fb5fc2cb9dfc382fc725908207c7\",\"balance\":64.0416283603},{\"user_address\":\"0x47c7901b7eb9db736da98b957ca3a7f8e6c984e1\",\"balance\":661.6171699813},{\"user_address\":\"0x794783dcfcac8c1944727057a3208d8f8bb91506\",\"balance\":10979.979029111},{\"user_address\":\"0x6c316a0a7a72783557ace9e22479715392dbe050\",\"balance\":202.274630491},{\"user_address\":\"0x139f5a78dd16827933f84c38ad0ca12d6a784fae\",\"balance\":1204.0465569033},{\"user_address\":\"0xff18311ccdbe86e54d266f07eaec2668bee9f9f3\",\"balance\":4.5706719792},{\"user_address\":\"0x63fb20f27df9f1c822bcb13f5caf7b0aa5da39f3\",\"balance\":18.9777542253},{\"user_address\":\"0xa718b037a16cd595f0e33bc19b7936066eebd453\",\"balance\":198.8556828456},{\"user_address\":\"0x282bdb018abf0f4f92bcd0e8792a3366a5862a71\",\"balance\":7574.3384258071},{\"user_address\":\"0xdc65630427c23ac00c163b0c13c02b27722f75c1\",\"balance\":3.0613074022},{\"user_address\":\"0x1be30174d3d9adb24bcff08ed6937b3dc3a571ce\",\"balance\":104.0785228934},{\"user_address\":\"0xa3d0b3b72e91a08701de2dd7461665899b62ecbb\",\"balance\":1.9027645072},{\"user_address\":\"0xff6a59e3b0955bf1774e10ff8fc059938cddbca0\",\"balance\":87.2161062074},{\"user_address\":\"0xb84aae890f12119cd1cf8d60d23dfa7a63c90f85\",\"balance\":113.2767859278},{\"user_address\":\"0x16668854dd35b25d3b219db372cb256eb9898b98\",\"balance\":4618.2409981524},{\"user_address\":\"0xdba2cba9f62cf1ef07b3664ee1da3663c86c38d0\",\"balance\":834.8597220623},{\"user_address\":\"0x34cdfeb92f7dd096ebb8c618875b8eca8fd50d83\",\"balance\":1567.2203685895},{\"user_address\":\"0xbba4172497664ef93d329d3e1411c02798d90c71\",\"balance\":40.9804771567},{\"user_address\":\"0x46f6b742135a31e0670905af32b784f73c4dde46\",\"balance\":3123.0783819717},{\"user_address\":\"0xb8595d024afa36e0205af627e3b47bd5ca0cf67a\",\"balance\":9287.0222052068},{\"user_address\":\"0xe45d85b382efd7833da1b8cab53b203d22340b1a\",\"balance\":13281.4836482229},{\"user_address\":\"0x2d8e4dcaec4e5ed430bf4f40f17c562523b9948e\",\"balance\":171.1783526131},{\"user_address\":\"0xc07c35511f10ef2c5ef0fa868213427c9f7162ae\",\"balance\":2.1047408608},{\"user_address\":\"0xb6531c4ad38f2e70e6d3f13259329ea0c40af24b\",\"balance\":264.7762239107},{\"user_address\":\"0x4b2131165de0c322ae0c73e20043555f9d786edd\",\"balance\":843.3992609471},{\"user_address\":\"0x0b98718264ca14d0a17c145ffe1e4f3c38a39372\",\"balance\":480.1205426957},{\"user_address\":\"0x2481e9c8091033f216f5c5cbc0a56c8c03e316de\",\"balance\":112.3049472246},{\"user_address\":\"0x3040bd6b09198b78cae99659ddbced47f216326a\",\"balance\":1037.8553431041},{\"user_address\":\"0x675c77c4c83bc5a07fb6488b293d723a329680d7\",\"balance\":6192.6178653047},{\"user_address\":\"0x08d2c744fd60f2dca8c1885d3aa03ff6d3fa5d11\",\"balance\":21.4588658354},{\"user_address\":\"0x63051bc0e37c2d12dfd5d597c8086413c23f6650\",\"balance\":393.4321771421},{\"user_address\":\"0x5c9d09716404556646b0b4567cb4621c18581f94\",\"balance\":871.1817080874},{\"user_address\":\"0x3a2417d7f0829947a95cfa827ff6ed36b4cf4d5f\",\"balance\":263.8305767513},{\"user_address\":\"0xd89187da9c93f238002534faec2043ea028077d7\",\"balance\":19.6851111695},{\"user_address\":\"0x918b7d67f921dc78191d0e140c674af48af338da\",\"balance\":140.8551173323},{\"user_address\":\"0xb7a1580b5603b61393d068faf04759d341ec6521\",\"balance\":30.7074405047},{\"user_address\":\"0xf2f6225962e7b1098d10f8b421b0c31936c7dcd2\",\"balance\":6781.8583879119},{\"user_address\":\"0xd595888401b9b6ed65483129893127f75eeadc43\",\"balance\":49.5341273266},{\"user_address\":\"0xa54b123bb78a92b613154207b0b01f8c5c8ce207\",\"balance\":769.6871469406},{\"user_address\":\"0x9ee405dd401dc2be67b3a37a71abfbf2e73cc251\",\"balance\":28824.67941221},{\"user_address\":\"0x742b6de8cb16327b68c83e1d6433174db89fd2e0\",\"balance\":211.8601883924},{\"user_address\":\"0x560ebafd8db62cbdb44b50539d65b48072b98277\",\"balance\":1120.9336767985},{\"user_address\":\"0x20f6c7862584ac3dc623b1ca7ffd5aca6c146da0\",\"balance\":83.8595785749},{\"user_address\":\"0xdc6570e15924b431c53e57cac0e5e02fc84ba931\",\"balance\":131.3886359675},{\"user_address\":\"0x8ed96d596cfc60cd505748657dfb5478e072ac0d\",\"balance\":89.2990247229},{\"user_address\":\"0xca8237d54fce40c9ea2aba76b39c1ee929a9ee3c\",\"balance\":20165.2270385047},{\"user_address\":\"0x438a650693bda869f82c54145f4bad57dac714d1\",\"balance\":1441.2995044197},{\"user_address\":\"0x9dc03477a733c1d580d0fa76e9dcffdbda9c89b0\",\"balance\":213.0411326976},{\"user_address\":\"0xeb275ffa1ae28983e6edac5e050bd655d0ad57c6\",\"balance\":205.3477378611},{\"user_address\":\"0x579e69809d3cf0a5558179d37a863818939df3ca\",\"balance\":2541.1302977288},{\"user_address\":\"0x204bc0dce80addfa5ed3a701cadf9c6086e363a0\",\"balance\":213.263851263},{\"user_address\":\"0x255984e224942259140f722e745e611ca3701861\",\"balance\":42.9760905944},{\"user_address\":\"0x870dc279570833a8c5a72fc7972681db9a96cfb7\",\"balance\":130.9403666733},{\"user_address\":\"0x114ab988799ea396bfa2d549ffe7bb6e6f29322e\",\"balance\":423.6502894429},{\"user_address\":\"0xfc4b2a62a06cb2e1c6a743e9ae327bb16977e4c1\",\"balance\":1772.0294534372},{\"user_address\":\"0xa85724f7122de7ad30ceab290109e961da24f269\",\"balance\":2.0214666942},{\"user_address\":\"0x2ae9c12d8356f11d1be6c4e91fe64c10783d42e5\",\"balance\":389.4485406611},{\"user_address\":\"0xcd5f4fc231a9fcc0b3ab67e06eb2ba85732a450f\",\"balance\":412.8996489995},{\"user_address\":\"0xd801e8d85d963b249c4408e67e3fdf472f0b377d\",\"balance\":886.9397618255},{\"user_address\":\"0x81d98c8fda0410ee3e9d7586cb949cd19fa4cf38\",\"balance\":30.7563970559},{\"user_address\":\"0x5fc6c1c0b983c49dd776f05f2ba99b178659dcf9\",\"balance\":84.8043061238},{\"user_address\":\"0x71f0f458d28e2cf9cbd8d431b94a5fcfca052ffb\",\"balance\":163.2275962226},{\"user_address\":\"0xfb5d0a0d5741a5baf3c4332e66fb57a70fab7c18\",\"balance\":93.1034733966},{\"user_address\":\"0x05a2c7f84f2e5d848bd26e79ef7c9be343ff8fc4\",\"balance\":67.1132213593},{\"user_address\":\"0x510224d3249d7717aece719ef109c8d70a09315f\",\"balance\":3.1113811993},{\"user_address\":\"0xa558139e7ed8e2926ca0abe3c84c9506155e7092\",\"balance\":683.4146980694},{\"user_address\":\"0x03069d347d647922b9acb3a73642118ffbdff42f\",\"balance\":195.4162612765},{\"user_address\":\"0xa15dc2f002a6b3e417e7a75f823c935745ba9c2b\",\"balance\":345.1689932051},{\"user_address\":\"0x012ad6b36e16db7d337fd553de535aea1e5c7a6a\",\"balance\":405.9183397345},{\"user_address\":\"0xbbc25274b5b8bb6507b3078e38b56d8901fc4102\",\"balance\":1418.2531183384},{\"user_address\":\"0x4062b997279de7213731dbe00485722a26718892\",\"balance\":2990.1429312313},{\"user_address\":\"0x05e41229efca125057f4d96007dc477312db8feb\",\"balance\":1128.2631954356},{\"user_address\":\"0x34d98e525087902ed714638af60c5f113b345fe9\",\"balance\":180.6368471826},{\"user_address\":\"0x037fb83d7c8a833eb5ced0142e00aa7733d76245\",\"balance\":398.8108006112},{\"user_address\":\"0x36f4e1803f6ff34562db567f347dea00dec87246\",\"balance\":151.1913332461},{\"user_address\":\"0xf09e41562b8c306e72415d8edb66af1a85fb3909\",\"balance\":4410.8265280622},{\"user_address\":\"0x940ec1a9bab489eebbb941de5e6432cea86d0def\",\"balance\":634.3950322831},{\"user_address\":\"0x083cd9e6875e84ec6618afef95c847c098f06515\",\"balance\":970.7376712416},{\"user_address\":\"0x083e952464b4a8e988abe39868a652f9c2ad050e\",\"balance\":815.5031243428},{\"user_address\":\"0x7e4823323e8dd1a8bbbac8379d2016e87518b396\",\"balance\":132.1060197295},{\"user_address\":\"0xbfbba1515bb284cf4cccd91ea6a4b1c3b35ad821\",\"balance\":64.9597048786},{\"user_address\":\"0xb0b975ac6a2a8c8d6829880be6a9f2b209311827\",\"balance\":56.4931161854},{\"user_address\":\"0xe5a7421fa54f115c94cdb6144c987f0b18e53b73\",\"balance\":22349.6388862546},{\"user_address\":\"0x1ab18167ecaeb74959e565a52edeae55bcd879c0\",\"balance\":48.7727144279},{\"user_address\":\"0x3d6d5b2266cc26b870ac7828c3065d69bd74a314\",\"balance\":70.8989432719},{\"user_address\":\"0x55d3d12deaf9b7b4f2727ce539b6bacac9d86126\",\"balance\":120.7929564547},{\"user_address\":\"0x8b478359b5593747473e67f78b1f0048c1c523ed\",\"balance\":2.4015900577},{\"user_address\":\"0x9e9fca8212355ce0a26d6a96f227750b189efd9a\",\"balance\":12426.4488149669},{\"user_address\":\"0x267f8581b39f95fc89faf155806bc7f25892885e\",\"balance\":38.4068935554},{\"user_address\":\"0xd81f3a7f6d6eebcafec979a0b8b31e4f2f8e718a\",\"balance\":689.0902527328},{\"user_address\":\"0xcf3c96b0f299208b085fd3746ffb9a6fe5482523\",\"balance\":62463.270778265},{\"user_address\":\"0xf03c33473291e9a0247cd1a70de048554986a707\",\"balance\":51.6509557029},{\"user_address\":\"0xf7970c4d6e9002a031aedeb2033e5f7c98b32c57\",\"balance\":5.9345470691},{\"user_address\":\"0x9f3bc1104ff63428026aafa5ace281f15fd0bc21\",\"balance\":71.0767630274},{\"user_address\":\"0x434057ad8ff687846789427b7a018328613c6686\",\"balance\":5.9940618707},{\"user_address\":\"0x94b90d0362d32aa14314d666a8968e1247508dfc\",\"balance\":12.1400684405},{\"user_address\":\"0x15f76bc8510b6573d4db6dbfe95eb337ac482578\",\"balance\":1345.4249977824},{\"user_address\":\"0x83853aa6bafa32d7efa1e047cc93e918c4fa4d71\",\"balance\":260.053141541},{\"user_address\":\"0x1128ea50438623f5cd1622535949458db1554b63\",\"balance\":49.4729422012},{\"user_address\":\"0xc51f4126ccf4e83b199589b6f15989f285f47221\",\"balance\":352.8644743053},{\"user_address\":\"0xe4bf6e1967d7bc0bd5e2c767c3a2ccadf23446df\",\"balance\":8536.522487063},{\"user_address\":\"0xb8953930e19d0004a7f25710827e8ef21964a09c\",\"balance\":94.686720709},{\"user_address\":\"0x42075722d8bb5ed0fa6643e6434df835f8f06989\",\"balance\":171.8396000414},{\"user_address\":\"0xd54d23200e2bf7cb7a7d6792a55da1377a697799\",\"balance\":9.6660912262},{\"user_address\":\"0x876b71aa426fad5127910d3cc792e818b8229cf1\",\"balance\":162.0429239506},{\"user_address\":\"0x79fb9867e8be703585a12ac819f79f6479619369\",\"balance\":345.2790527226},{\"user_address\":\"0xe6d270680431b674cadd4e6c13bd56fdbfd6fbad\",\"balance\":233.3022630403},{\"user_address\":\"0x1138f2c7e2198d6b1d7de80377454d280f6877d1\",\"balance\":267.7720616533},{\"user_address\":\"0xc998807e6f02fbed254be62616813aac524d2b2c\",\"balance\":4199.3337083986},{\"user_address\":\"0x39f83a0e6b37ea92fa317518eb21d1081624e310\",\"balance\":132.1749451391},{\"user_address\":\"0xd8f65605ad284a7668f5281635112b7db8ef89d4\",\"balance\":179.6729467178},{\"user_address\":\"0x0bcde2b0e3795daa6b3b5fa6d3e52550bbfe101e\",\"balance\":10.5798704471},{\"user_address\":\"0x5af7140c215c85408db1ecd969793c1e958930ae\",\"balance\":63.7733254494},{\"user_address\":\"0x61db9ae37238e7c090708aa67e808cdc61a0634b\",\"balance\":1681.4324206695},{\"user_address\":\"0x2493dfaaab8e8dda71696b351c3669c473f8658c\",\"balance\":14.7470591485},{\"user_address\":\"0x242c7f57891182900eeb75b9fdfd2bf59c8acdc9\",\"balance\":707.6036718805},{\"user_address\":\"0x3e7393c1717b59544517579d224317197b71346b\",\"balance\":652.3082326011},{\"user_address\":\"0x784935055ab3c0e47682a67943afcc8c1a63220e\",\"balance\":105.913953767},{\"user_address\":\"0x7a4cca23f291344029a6e2b7e137f075c94f0288\",\"balance\":816.730579397},{\"user_address\":\"0x09ecf3f9423d2c60869eece947ec8199f788d1f8\",\"balance\":189.2962617035},{\"user_address\":\"0xeea30dfeab54a05434967f4540cddcd61dca2d21\",\"balance\":1588.1968250827},{\"user_address\":\"0x94c9c07c8b24176699dc2a0e586114fe0a7f88ba\",\"balance\":79.740925065},{\"user_address\":\"0xfbf712df1d81578117e0fc83bc75785831def6f5\",\"balance\":170.7299176611},{\"user_address\":\"0xb8f0dff93a8825689757390e36dce005c73fd3e7\",\"balance\":932.205870442},{\"user_address\":\"0x08cce1a81d8c1bad66573d211c2f52fa01c7378a\",\"balance\":779.4983871169},{\"user_address\":\"0x826acfdba90a774bf3f18c1419454ebd643150ea\",\"balance\":35.7108700262},{\"user_address\":\"0x14f13f150a810e70a168bf377a452b9c741a0641\",\"balance\":180.2118328229},{\"user_address\":\"0x4e78e70469f617abcf3fa97a88b3ec9626e8f692\",\"balance\":657.497885171},{\"user_address\":\"0x5ca361f8826e4910aa71cc6b87517e7dbac7011c\",\"balance\":8783.8202807358},{\"user_address\":\"0x9b2581a9eece06aa1d1ed5db211dc33776366ec0\",\"balance\":10.4295825851},{\"user_address\":\"0x32bfa11cd3ac197c6c6f3658d981d46efd9e9a6e\",\"balance\":512.6714624114},{\"user_address\":\"0x657adc8cf4992b57f05f973c5be57632e0bdcc7f\",\"balance\":1483.9088496475},{\"user_address\":\"0x48444712a0b97f0775ad575b1a744aaf54f625dc\",\"balance\":1692.9607583883},{\"user_address\":\"0xd3b8b9959ff0720334f34dc0497ab90c6e9350d8\",\"balance\":364.5095874552},{\"user_address\":\"0xfa4e885e98aebf061bcc90f6c85880b45e5783ee\",\"balance\":91.6573657137},{\"user_address\":\"0x62558d5882ff75177da4054c43662824a1267621\",\"balance\":192.4897002628},{\"user_address\":\"0x4164825bf954e6c6401dab8d01741885f1ca28d8\",\"balance\":1711.3723994059},{\"user_address\":\"0xbc2530c310276d9b4d2497c58e5adadb09f2ba41\",\"balance\":9.2697258264},{\"user_address\":\"0xf631deef569ea91e1f1b9118bee2d0a07b665b2d\",\"balance\":169.2187152134},{\"user_address\":\"0x7b0c025529f5e5f158fd1278415eb156ed01e9d1\",\"balance\":3284.9206342054},{\"user_address\":\"0xa426bfdda22814a691fabcb44dcbe696b0fd16d8\",\"balance\":5699.5547669698},{\"user_address\":\"0x7468a45450ff6582c9649fdd2404bdb22331c483\",\"balance\":110.3469913402},{\"user_address\":\"0x54cdd27399ecb738e670b3fe078f3419e1ffc7f7\",\"balance\":63.1376073621},{\"user_address\":\"0xf376feea3272a93fc2c76a279cb4a850f8b79740\",\"balance\":2201.7644590054},{\"user_address\":\"0x08c0cb36c3d6d88910ae25deb98036ac52d65132\",\"balance\":17.5498349167},{\"user_address\":\"0x8cf28d54204b8cee5156313b5365c7db7155ee4c\",\"balance\":2998.7874097436},{\"user_address\":\"0xfc017360272a4cdf33691f584e9e0b07d049a97c\",\"balance\":61.0865707121},{\"user_address\":\"0x21413ad6652ec48e9c672cd55c9e233b4f8808f5\",\"balance\":455.9563000177},{\"user_address\":\"0x3f6524bbab05fd836710fbbf9adc6268e42abd80\",\"balance\":51.2805971638},{\"user_address\":\"0x1e18797b9c653b8e476a604269bdaee82d34cded\",\"balance\":26.0719057716},{\"user_address\":\"0xcb9eaa226eea1c59d2f2fe197da0de65f30a8d63\",\"balance\":360.3740266603},{\"user_address\":\"0x75ac449e4ae6ee033fc89c2235fb5e665da9440a\",\"balance\":6.7294201731},{\"user_address\":\"0x23f8c7db7a1b656652e9726ab264c5b181418b9f\",\"balance\":1897.2957552069},{\"user_address\":\"0x69f2c75adacf558729e534fa8d6b72b81f419c2c\",\"balance\":2505.0650306603},{\"user_address\":\"0xdc6715212c3e6f65014b071447e72a580836d467\",\"balance\":172.2019547542},{\"user_address\":\"0x1ef6956cc42383f3ed47f7c5a5d6fd3886208a15\",\"balance\":62.742882918},{\"user_address\":\"0xa4fea54f4dd3d8aab135cf93bca9219f9275066f\",\"balance\":74.1604101628},{\"user_address\":\"0x999599f33f56bbe6e2cd64db47ae19e4abbe2b63\",\"balance\":30.3793077538},{\"user_address\":\"0xa6698106f9af61d624bee0796c0545fc520eefcf\",\"balance\":141.9491251856},{\"user_address\":\"0xdeaa57465a11ac26738b10f79ed3e11e5f0550b5\",\"balance\":41.7461744868},{\"user_address\":\"0x77fe5e8e2be8d93a73ed097a70e1c915292b840f\",\"balance\":1279.7547258843},{\"user_address\":\"0xcc8946bfa7c6420c387d13cbf260c1d7908f79bd\",\"balance\":18080.0406020847},{\"user_address\":\"0x524055a052ff54bc6dcd3c9fb076943566f5a3d4\",\"balance\":1607.7247269346},{\"user_address\":\"0xdbe3670b58d0bc01172ef8e4feea90845a84fee8\",\"balance\":695.8632882557},{\"user_address\":\"0x924f60124543cbecf77d06cd0c33151d6b43e1a4\",\"balance\":143.7082114884},{\"user_address\":\"0x3de338ecd19234437bdd453b841867c5a6e56056\",\"balance\":2332.9081805746},{\"user_address\":\"0xd6a5709e51d0c9a63443c5f9f5987aa037dfce36\",\"balance\":29.7996806945},{\"user_address\":\"0xd08b65f5140466b1dfedf439b1b804bb202ac0e5\",\"balance\":47.9595522693},{\"user_address\":\"0xef3ede96a9ec62046d42c0725c5d994c1fbcf70e\",\"balance\":5882.8934784875},{\"user_address\":\"0x9bfc062172dcd66da72cb621a6dcf8431b248f20\",\"balance\":33.681416201},{\"user_address\":\"0xa5f322bc8c12145570e0f0bd8e8bc7dcd96e9af0\",\"balance\":476.7031801112},{\"user_address\":\"0x57d98609d623b9885721a58b896d40c7871e1573\",\"balance\":867.2212995351},{\"user_address\":\"0xa397eb4360826e175314923b97d67e9075b8d2fc\",\"balance\":83.9697992698},{\"user_address\":\"0x68479ad37f1d7c814affd8a9df739e735c30878a\",\"balance\":45.8715878329},{\"user_address\":\"0x1b3926bc5570e5d10a5a60d0518fc8ee3fd88666\",\"balance\":124.61778075},{\"user_address\":\"0x27d205c70be488f983299bdf2574d862eb6fe136\",\"balance\":377.3083056087},{\"user_address\":\"0x8862b669fa74d3e9c36c18228eb94b2f06891420\",\"balance\":1513.9150647399},{\"user_address\":\"0x134f06a09dd9a16b3597810c3990b28447017f49\",\"balance\":219.3501139345},{\"user_address\":\"0x73051a64044fea61a6100eb0b55c9087be32cca3\",\"balance\":124.0168131676},{\"user_address\":\"0xf7a0dede29b15c25a6ac9557beee6a393eced3e1\",\"balance\":16.2897980299},{\"user_address\":\"0xd3519420007d6ceef1948df489262bc963808ca4\",\"balance\":2039.0644686179},{\"user_address\":\"0xdfb52a0578a9405ce1610616cbc234713ba046ca\",\"balance\":71.3911483059},{\"user_address\":\"0x9670ec4f2e892317d06a24c873dc8cdb2439f3c4\",\"balance\":205.4430403608},{\"user_address\":\"0x30175e8d4c83093448c595cd15b0609c10d9c9b7\",\"balance\":88.6970441145},{\"user_address\":\"0x3f8ae5412552128a1b3ce268fd270670859edbeb\",\"balance\":35.1721925313},{\"user_address\":\"0x1102a2a0953bfae7591be5d2f084b7d97b5c99b7\",\"balance\":8.2593978016},{\"user_address\":\"0xbc5ef557479b51fe936e67c18efbf514d5be4dd0\",\"balance\":650.69811672},{\"user_address\":\"0x3df83ec9d2b62bb9bb83eba1218a202564bb67da\",\"balance\":1335.2784671586},{\"user_address\":\"0xc1e42f862d202b4a0ed552c1145735ee088f6ccf\",\"balance\":10187.1858663407},{\"user_address\":\"0x20fb0b9ef746c6c059e9680e36572d8e48dddb74\",\"balance\":6860.228427175},{\"user_address\":\"0x337ffc44c4debebe426ca294a213da3c81cdc86d\",\"balance\":9994.2006107469},{\"user_address\":\"0xbbccf6cab5b3aec26b0cbc6095b5b6ddbacfd59a\",\"balance\":6065.1141112232},{\"user_address\":\"0x9f87fd4314d100097223fe0cfb66132ea67fa730\",\"balance\":443.7693454766},{\"user_address\":\"0x8a72c47f190f2118227a83da784a2ce45c54f484\",\"balance\":1371.1952560666},{\"user_address\":\"0xfab6735cfadd7b3fbb4a1383571629d576801d9c\",\"balance\":844.7122435436},{\"user_address\":\"0xfb529f55f4a39d9a336cd1a15b489f07679f4932\",\"balance\":192.8534520586},{\"user_address\":\"0x2c3545ceaed6d3cb326486ce01f156282fc7f9a5\",\"balance\":105.8690538051},{\"user_address\":\"0x7fb920fafd32680391353e9a74afc156633e542d\",\"balance\":1743.7610812012}]'"
      ]
     },
     "execution_count": 66,
     "metadata": {},
     "output_type": "execute_result"
    }
   ],
   "source": [
    "ucvx_df[['user_address', 'balance']].to_json(orient='records')"
   ]
  },
  {
   "cell_type": "markdown",
   "id": "017c03b4-b273-47c1-95bc-f9ceefe7abce",
   "metadata": {},
   "source": [
    "## uCVX distributor allocations"
   ]
  },
  {
   "cell_type": "code",
   "execution_count": 81,
   "id": "faa152a1-6f81-49b0-934c-349255af5f4c",
   "metadata": {},
   "outputs": [],
   "source": [
    "import json\n",
    "with open('merkle_ucvx.json', 'r') as file:\n",
    "    data = json.load(file)"
   ]
  },
  {
   "cell_type": "code",
   "execution_count": 82,
   "id": "acaa1467-8db4-44a9-89e4-e11600ee2cba",
   "metadata": {},
   "outputs": [],
   "source": [
    "dis_df = pd.DataFrame(data=data, columns=['user_address', 'balance'])"
   ]
  },
  {
   "cell_type": "code",
   "execution_count": 85,
   "id": "5c8d351f-9f13-4232-9c49-8dcd6839ef76",
   "metadata": {},
   "outputs": [],
   "source": [
    "dis_df['user_address'] = dis_df['user_address'].str.lower()"
   ]
  },
  {
   "cell_type": "markdown",
   "id": "77b41204-79e4-4301-8904-29d6d9a62be5",
   "metadata": {},
   "source": [
    "## LPs"
   ]
  },
  {
   "cell_type": "code",
   "execution_count": 67,
   "id": "2e023446-42ec-4c82-b000-400000f11861",
   "metadata": {},
   "outputs": [
    {
     "data": {
      "text/html": [
       "<div>\n",
       "<style scoped>\n",
       "    .dataframe tbody tr th:only-of-type {\n",
       "        vertical-align: middle;\n",
       "    }\n",
       "\n",
       "    .dataframe tbody tr th {\n",
       "        vertical-align: top;\n",
       "    }\n",
       "\n",
       "    .dataframe thead th {\n",
       "        text-align: right;\n",
       "    }\n",
       "</style>\n",
       "<table border=\"1\" class=\"dataframe\">\n",
       "  <thead>\n",
       "    <tr style=\"text-align: right;\">\n",
       "      <th></th>\n",
       "      <th>index</th>\n",
       "      <th>user_address</th>\n",
       "      <th>block_number</th>\n",
       "      <th>balance</th>\n",
       "      <th>contract_address</th>\n",
       "      <th>__row_index</th>\n",
       "      <th>token</th>\n",
       "    </tr>\n",
       "  </thead>\n",
       "  <tbody>\n",
       "    <tr>\n",
       "      <th>409</th>\n",
       "      <td>997</td>\n",
       "      <td>0xa52fd396891e7a74b641a2cb1a6999fcf56b077e</td>\n",
       "      <td>17587962</td>\n",
       "      <td>34863.915754</td>\n",
       "      <td>0x389fb29230d02e67eb963c1f5a00f2b16f95beb7</td>\n",
       "      <td>997</td>\n",
       "      <td>lpxcvx</td>\n",
       "    </tr>\n",
       "    <tr>\n",
       "      <th>822</th>\n",
       "      <td>2032</td>\n",
       "      <td>0x72725c0c879489986d213a9a6d2116de45624c1c</td>\n",
       "      <td>17830116</td>\n",
       "      <td>129229.825129</td>\n",
       "      <td>0x389fb29230d02e67eb963c1f5a00f2b16f95beb7</td>\n",
       "      <td>2032</td>\n",
       "      <td>lpxcvx</td>\n",
       "    </tr>\n",
       "  </tbody>\n",
       "</table>\n",
       "</div>"
      ],
      "text/plain": [
       "     index                                user_address  block_number  \\\n",
       "409    997  0xa52fd396891e7a74b641a2cb1a6999fcf56b077e      17587962   \n",
       "822   2032  0x72725c0c879489986d213a9a6d2116de45624c1c      17830116   \n",
       "\n",
       "           balance                            contract_address  __row_index  \\\n",
       "409   34863.915754  0x389fb29230d02e67eb963c1f5a00f2b16f95beb7          997   \n",
       "822  129229.825129  0x389fb29230d02e67eb963c1f5a00f2b16f95beb7         2032   \n",
       "\n",
       "      token  \n",
       "409  lpxcvx  \n",
       "822  lpxcvx  "
      ]
     },
     "execution_count": 67,
     "metadata": {},
     "output_type": "execute_result"
    }
   ],
   "source": [
    "df[df['token'] == 'lpxcvx']"
   ]
  },
  {
   "cell_type": "code",
   "execution_count": 68,
   "id": "87f70493-a119-4e20-90bf-4ebcf0e86c36",
   "metadata": {},
   "outputs": [
    {
     "data": {
      "text/html": [
       "<div>\n",
       "<style scoped>\n",
       "    .dataframe tbody tr th:only-of-type {\n",
       "        vertical-align: middle;\n",
       "    }\n",
       "\n",
       "    .dataframe tbody tr th {\n",
       "        vertical-align: top;\n",
       "    }\n",
       "\n",
       "    .dataframe thead th {\n",
       "        text-align: right;\n",
       "    }\n",
       "</style>\n",
       "<table border=\"1\" class=\"dataframe\">\n",
       "  <thead>\n",
       "    <tr style=\"text-align: right;\">\n",
       "      <th></th>\n",
       "      <th>index</th>\n",
       "      <th>user_address</th>\n",
       "      <th>block_number</th>\n",
       "      <th>balance</th>\n",
       "      <th>contract_address</th>\n",
       "      <th>__row_index</th>\n",
       "      <th>token</th>\n",
       "    </tr>\n",
       "  </thead>\n",
       "  <tbody>\n",
       "    <tr>\n",
       "      <th>358</th>\n",
       "      <td>860</td>\n",
       "      <td>0xecb456ea5365865ebab8a2661b0c503410e9b347</td>\n",
       "      <td>17830116</td>\n",
       "      <td>325.198472</td>\n",
       "      <td>0x4de2ab8177fc5ffafb7ad11fb8beb1e5fb95f71c</td>\n",
       "      <td>860</td>\n",
       "      <td>curve lp</td>\n",
       "    </tr>\n",
       "    <tr>\n",
       "      <th>396</th>\n",
       "      <td>957</td>\n",
       "      <td>0xe92cd2b13b6a849316b86d36cac887a629f1e00e</td>\n",
       "      <td>16891478</td>\n",
       "      <td>10.0</td>\n",
       "      <td>0x4de2ab8177fc5ffafb7ad11fb8beb1e5fb95f71c</td>\n",
       "      <td>957</td>\n",
       "      <td>curve lp</td>\n",
       "    </tr>\n",
       "    <tr>\n",
       "      <th>749</th>\n",
       "      <td>1874</td>\n",
       "      <td>0xa52fd396891e7a74b641a2cb1a6999fcf56b077e</td>\n",
       "      <td>17438262</td>\n",
       "      <td>84996.255653</td>\n",
       "      <td>0x4de2ab8177fc5ffafb7ad11fb8beb1e5fb95f71c</td>\n",
       "      <td>1874</td>\n",
       "      <td>curve lp</td>\n",
       "    </tr>\n",
       "  </tbody>\n",
       "</table>\n",
       "</div>"
      ],
      "text/plain": [
       "     index                                user_address  block_number  \\\n",
       "358    860  0xecb456ea5365865ebab8a2661b0c503410e9b347      17830116   \n",
       "396    957  0xe92cd2b13b6a849316b86d36cac887a629f1e00e      16891478   \n",
       "749   1874  0xa52fd396891e7a74b641a2cb1a6999fcf56b077e      17438262   \n",
       "\n",
       "          balance                            contract_address  __row_index  \\\n",
       "358    325.198472  0x4de2ab8177fc5ffafb7ad11fb8beb1e5fb95f71c          860   \n",
       "396          10.0  0x4de2ab8177fc5ffafb7ad11fb8beb1e5fb95f71c          957   \n",
       "749  84996.255653  0x4de2ab8177fc5ffafb7ad11fb8beb1e5fb95f71c         1874   \n",
       "\n",
       "        token  \n",
       "358  curve lp  \n",
       "396  curve lp  \n",
       "749  curve lp  "
      ]
     },
     "execution_count": 68,
     "metadata": {},
     "output_type": "execute_result"
    }
   ],
   "source": [
    "df[df['token'] == 'curve lp']"
   ]
  },
  {
   "cell_type": "markdown",
   "id": "307a4ee1-97fd-4b71-90b3-f025c2b5f8f7",
   "metadata": {},
   "source": [
    "We discount the dust & curve fee collection address"
   ]
  },
  {
   "cell_type": "code",
   "execution_count": 70,
   "id": "2c7b860d-cc08-4e90-953b-b3c8ee44ca56",
   "metadata": {},
   "outputs": [
    {
     "data": {
      "text/plain": [
       "128722.18535680581"
      ]
     },
     "execution_count": 70,
     "metadata": {},
     "output_type": "execute_result"
    }
   ],
   "source": [
    "84996.255653 / sum(df[df['token'] == 'curve lp']['balance']) * 129229.825129"
   ]
  },
  {
   "cell_type": "code",
   "execution_count": 72,
   "id": "ec7811cb-4abd-4fc2-8f20-8fd282a84de8",
   "metadata": {},
   "outputs": [
    {
     "data": {
      "text/plain": [
       "163586.10111080582"
      ]
     },
     "execution_count": 72,
     "metadata": {},
     "output_type": "execute_result"
    }
   ],
   "source": [
    "lp = 34863.915754 + 128722.18535680581\n",
    "lp"
   ]
  },
  {
   "cell_type": "code",
   "execution_count": 93,
   "id": "86b23419-6f43-46db-a142-fb874c0e4869",
   "metadata": {},
   "outputs": [
    {
     "data": {
      "text/html": [
       "<div>\n",
       "<style scoped>\n",
       "    .dataframe tbody tr th:only-of-type {\n",
       "        vertical-align: middle;\n",
       "    }\n",
       "\n",
       "    .dataframe tbody tr th {\n",
       "        vertical-align: top;\n",
       "    }\n",
       "\n",
       "    .dataframe thead th {\n",
       "        text-align: right;\n",
       "    }\n",
       "</style>\n",
       "<table border=\"1\" class=\"dataframe\">\n",
       "  <thead>\n",
       "    <tr style=\"text-align: right;\">\n",
       "      <th></th>\n",
       "      <th>user_address</th>\n",
       "      <th>balance</th>\n",
       "    </tr>\n",
       "  </thead>\n",
       "  <tbody>\n",
       "    <tr>\n",
       "      <th>0</th>\n",
       "      <td>0xa52fd396891e7a74b641a2cb1a6999fcf56b077e</td>\n",
       "      <td>163586.101111</td>\n",
       "    </tr>\n",
       "  </tbody>\n",
       "</table>\n",
       "</div>"
      ],
      "text/plain": [
       "                                 user_address        balance\n",
       "0  0xa52fd396891e7a74b641a2cb1a6999fcf56b077e  163586.101111"
      ]
     },
     "execution_count": 93,
     "metadata": {},
     "output_type": "execute_result"
    }
   ],
   "source": [
    "lp_df = pd.DataFrame(data=[['0xa52fd396891e7a74b641a2cb1a6999fcf56b077e', lp]], columns=['user_address', 'balance'])\n",
    "lp_df"
   ]
  },
  {
   "cell_type": "markdown",
   "id": "0414e7aa-9a66-4e06-923e-5fa2d2db0c4a",
   "metadata": {},
   "source": [
    "## pxCVX"
   ]
  },
  {
   "cell_type": "code",
   "execution_count": 76,
   "id": "c13ca172-59c6-4f48-9886-f247510e0974",
   "metadata": {},
   "outputs": [
    {
     "data": {
      "text/plain": [
       "'[{\"user_address\":\"0xa52fd396891e7a74b641a2cb1a6999fcf56b077e\",\"balance\":14881.0821781168},{\"user_address\":\"0x2e1d4bb1c6d285368aa8d875b1d2795a70b55452\",\"balance\":10.8751},{\"user_address\":\"0xe344489b0812e76657e59f4d14b2d3c4fac2a8a3\",\"balance\":374.73},{\"user_address\":\"0x94e4aa6eef65b48fea01d5a5cce0bc0dffb66f43\",\"balance\":30.137489074},{\"user_address\":\"0x2b4cce029aaf701395a70e6888e2c59509201847\",\"balance\":143.2123191853},{\"user_address\":\"0xa8a29c94820949c4d3348bcf2b2753096ca85739\",\"balance\":378.4108557166},{\"user_address\":\"0xe5504e8109e032bc5d961e4f3c358705104e198e\",\"balance\":55.1480231171},{\"user_address\":\"0x8df24569a74e094bf75e17d1f0c238d39b5e17b5\",\"balance\":3.0131},{\"user_address\":\"0xe47fd677ba6d3738cec98aa18bb6fa015b6f7bda\",\"balance\":8.1287179411},{\"user_address\":\"0xa694e6603e1f0cd880e3fa6e047da12ddd90395d\",\"balance\":10.0},{\"user_address\":\"0x434057ad8ff687846789427b7a018328613c6686\",\"balance\":158.9969741272},{\"user_address\":\"0xc52815221d716665ab84470f40e57037e473d14f\",\"balance\":241.9799099127},{\"user_address\":\"0x252537940740629ae6c83f6c5f1459c2f8f6eb3e\",\"balance\":2.9390001236},{\"user_address\":\"0x82e8936b187d83fd6eb2b7dab5b19556e9deff1c\",\"balance\":20124.6447518057},{\"user_address\":\"0x65d3febc3112cef66be36df9a62ac0f94079bd42\",\"balance\":2.5610114811},{\"user_address\":\"0x7fe81534050fa6d648a6f5a33fed3136cbde3424\",\"balance\":1.0071354105},{\"user_address\":\"0x1e121993b4a8bc79d18a4c409db84c100fff25f5\",\"balance\":11765.9129907488},{\"user_address\":\"0x10ac2e4c56a2133184bb6b3feea4672537452418\",\"balance\":11.4935971882},{\"user_address\":\"0x46239ceb94ebb46f8c800f89b0d817eabb207309\",\"balance\":247.9529796833},{\"user_address\":\"0x2d42375e93e9b1c27287718fe97f8bad40821a91\",\"balance\":2.5570296091},{\"user_address\":\"0xb8f70fff574add220367b188bfa5bc32f9814b2e\",\"balance\":2202.6669917029},{\"user_address\":\"0x913d74033d61de00c388e4d30ba5ac016b104f56\",\"balance\":675.7064890026},{\"user_address\":\"0xb6d0981639716a5c7054d3b9726d6af3b3aaa024\",\"balance\":480.2311783496},{\"user_address\":\"0x961229abc9e88ef9a906dab0c32e2c313dc37e13\",\"balance\":21.7459771221},{\"user_address\":\"0x8d8ff351d6d6161eae4b7d8523d220b54d3abf17\",\"balance\":1.0375080755},{\"user_address\":\"0x69f2c75adacf558729e534fa8d6b72b81f419c2c\",\"balance\":15.8500780748},{\"user_address\":\"0x41bd3b947b471db535d402f7ad3e0c32f3049f79\",\"balance\":1671.1846466395},{\"user_address\":\"0x26dfd3ee4182f8f1fe2c3bca07236b9b83234312\",\"balance\":1082.062555896},{\"user_address\":\"0x6ba12e0b75c5b83807884d45df239adc60c7e7ba\",\"balance\":21.3054937279},{\"user_address\":\"0x9edce78578a8128287e65e6e293f1daedd57451d\",\"balance\":1450.9792880988},{\"user_address\":\"0x6bc7428e0ec2eca50037637cd091bf066cb5b30b\",\"balance\":50.4155168614},{\"user_address\":\"0x389fb29230d02e67eb963c1f5a00f2b16f95beb7\",\"balance\":164093.7437978556},{\"user_address\":\"0x8b478359b5593747473e67f78b1f0048c1c523ed\",\"balance\":76.2786},{\"user_address\":\"0x4019b01cd9445ced9bb304589f0a7ca08622fa02\",\"balance\":50.8816292937},{\"user_address\":\"0xe92cd2b13b6a849316b86d36cac887a629f1e00e\",\"balance\":10.0},{\"user_address\":\"0x1dc2dc7110f8ee61650864ad6680fe8144b7d6f9\",\"balance\":254.5860484616},{\"user_address\":\"0xcb45b6be12647943fb5a49ab68aed7283bcf0743\",\"balance\":3000.0},{\"user_address\":\"0x6f8adc605edf0da9f3970d12405e8e47e9ac7454\",\"balance\":1018.4781273641},{\"user_address\":\"0x881e70ab42f82f57367e25a230fc80c06c60fa64\",\"balance\":10592.1002794107},{\"user_address\":\"0x70ccbe10f980d80b7ebaab7d2e3a73e87d67b775\",\"balance\":542.2124802941},{\"user_address\":\"0x9008d19f58aabd9ed0d60971565aa8510560ab41\",\"balance\":45.4392285212},{\"user_address\":\"0xf38a67da7a3a12aa12a9981ae6a79c0fdddd71ab\",\"balance\":10.6332828279},{\"user_address\":\"0x4d8222965d7ab82c5c4eed9ae7d55448c22c15d9\",\"balance\":148.1246159892},{\"user_address\":\"0x8f63277257a7eead6de9cf22f809be1de12a5e12\",\"balance\":195.0908960926},{\"user_address\":\"0x0ece7c1bfc9543b2cbea8f5577d02e5f59a9f176\",\"balance\":7987.0},{\"user_address\":\"0xda035641151d42aa4a25ce51de8f6e53eae0ded7\",\"balance\":11298.2930064891},{\"user_address\":\"0x886f6ab61294e7650de300e0d026b1408f1e160f\",\"balance\":371.7431},{\"user_address\":\"0x94b90d0362d32aa14314d666a8968e1247508dfc\",\"balance\":9.99},{\"user_address\":\"0x8d91fa572eac544c9a77e7c950cdd23983d90cb0\",\"balance\":31.6384780128},{\"user_address\":\"0xee9fff4e526b869e864945c77e946a6d629cf1bd\",\"balance\":46.2761941607},{\"user_address\":\"0x1dd0b4bb58cc70f7f1de0772903a749318ad18b1\",\"balance\":499.9878091822},{\"user_address\":\"0xdfee40a82276d9bcfa3c346988cc1e83a664e276\",\"balance\":100.0},{\"user_address\":\"0x1a78fbe94576de9bc17aa01223ac1d1261d542c9\",\"balance\":308.6865080165},{\"user_address\":\"0x45f97d07dab04b21f36fa3b1149c35e316b35d03\",\"balance\":2351533.329147025},{\"user_address\":\"0x1fabd0b6a1527ad856c7602c170a3b90a2c87dfc\",\"balance\":297.1468898144},{\"user_address\":\"0x2bc2f7cce2d082e18d4b1986f53a6acff2330caf\",\"balance\":1665.2310099336},{\"user_address\":\"0xf44ac22d63f6c18db1133d17dbc4f206fe860c93\",\"balance\":5.0029890047},{\"user_address\":\"0xe1affdea569c190e09f84f916c2b40af632cdd62\",\"balance\":4.3148407043},{\"user_address\":\"0x516074a91a6b0e91ca5080fa6cbc86c75102a18a\",\"balance\":5.1388530575},{\"user_address\":\"0x6ed9c171e02de08aaedf0fc1d589923d807061d6\",\"balance\":12356.7046755301},{\"user_address\":\"0x90069c262b30e44d04db1e394cd1b573f397e441\",\"balance\":1111.3236},{\"user_address\":\"0x5360d0b179c5678ae546ee3ddb27e449d7efa74c\",\"balance\":37.5371933498},{\"user_address\":\"0x7baf493298af999b688e25cb2478256ae3f23109\",\"balance\":149.27},{\"user_address\":\"0x5ce4ebe8587f60f72493b47048065a4e5ff94f76\",\"balance\":25.9647667338},{\"user_address\":\"0x704d40d9212e511842fee1b667020a471ebe9ce0\",\"balance\":200.8609},{\"user_address\":\"0x6bd0b461ae0427f12b09897fc390f77fe2b51f8e\",\"balance\":54.0893414601}]'"
      ]
     },
     "execution_count": 76,
     "metadata": {},
     "output_type": "execute_result"
    }
   ],
   "source": [
    "df[df['token'] == 'pxcvx'][['user_address', 'balance']].to_json(orient='records')"
   ]
  },
  {
   "cell_type": "code",
   "execution_count": 78,
   "id": "1c7bdefa-37d2-45a6-a02a-9310b0eaf283",
   "metadata": {},
   "outputs": [
    {
     "data": {
      "text/plain": [
       "0.1        4.658915\n",
       "0.2       10.633283\n",
       "0.3       28.051128\n",
       "0.4       50.881629\n",
       "0.5      148.697308\n",
       "0.6      254.586048\n",
       "0.7      490.109494\n",
       "0.8     1450.979288\n",
       "0.9    10945.196643\n",
       "Name: balance, dtype: object"
      ]
     },
     "execution_count": 78,
     "metadata": {},
     "output_type": "execute_result"
    }
   ],
   "source": [
    "df[df['token'] == 'pxcvx']['balance'].quantile([.1, .2, .3, .4, .5, .6, .7, .8, .9])"
   ]
  },
  {
   "cell_type": "markdown",
   "id": "11cb9396-bbc8-471d-92ea-b2165cd883ce",
   "metadata": {},
   "source": [
    "## Aggregate"
   ]
  },
  {
   "cell_type": "code",
   "execution_count": 101,
   "id": "cef38835-3cec-4665-a245-d7ce6d129072",
   "metadata": {},
   "outputs": [
    {
     "data": {
      "text/html": [
       "<div>\n",
       "<style scoped>\n",
       "    .dataframe tbody tr th:only-of-type {\n",
       "        vertical-align: middle;\n",
       "    }\n",
       "\n",
       "    .dataframe tbody tr th {\n",
       "        vertical-align: top;\n",
       "    }\n",
       "\n",
       "    .dataframe thead th {\n",
       "        text-align: right;\n",
       "    }\n",
       "</style>\n",
       "<table border=\"1\" class=\"dataframe\">\n",
       "  <thead>\n",
       "    <tr style=\"text-align: right;\">\n",
       "      <th></th>\n",
       "      <th>user_address</th>\n",
       "      <th>balance</th>\n",
       "    </tr>\n",
       "  </thead>\n",
       "  <tbody>\n",
       "    <tr>\n",
       "      <th>0</th>\n",
       "      <td>0x0056d1fd2ca3c0f3a7b6ed6cdd1f1f104b4bf9a9</td>\n",
       "      <td>10.267250</td>\n",
       "    </tr>\n",
       "    <tr>\n",
       "      <th>1</th>\n",
       "      <td>0x0058ed26f567453ca826b60dbf09ef5465b7feab</td>\n",
       "      <td>16.856335</td>\n",
       "    </tr>\n",
       "    <tr>\n",
       "      <th>2</th>\n",
       "      <td>0x006217c11f51611d9848d17550bc4b03fe02deb0</td>\n",
       "      <td>194.466152</td>\n",
       "    </tr>\n",
       "    <tr>\n",
       "      <th>3</th>\n",
       "      <td>0x006b4b47c7f404335c87e85355e217305f97e789</td>\n",
       "      <td>657.877195</td>\n",
       "    </tr>\n",
       "    <tr>\n",
       "      <th>4</th>\n",
       "      <td>0x0079f92ba09c15b21a62ba97caaf2e3aa4531643</td>\n",
       "      <td>56.550508</td>\n",
       "    </tr>\n",
       "    <tr>\n",
       "      <th>...</th>\n",
       "      <td>...</td>\n",
       "      <td>...</td>\n",
       "    </tr>\n",
       "    <tr>\n",
       "      <th>1403</th>\n",
       "      <td>0xff18311ccdbe86e54d266f07eaec2668bee9f9f3</td>\n",
       "      <td>7.221864</td>\n",
       "    </tr>\n",
       "    <tr>\n",
       "      <th>1404</th>\n",
       "      <td>0xff597632d59c49e918fe26cda385f37a0db8a713</td>\n",
       "      <td>292.955568</td>\n",
       "    </tr>\n",
       "    <tr>\n",
       "      <th>1405</th>\n",
       "      <td>0xff6a59e3b0955bf1774e10ff8fc059938cddbca0</td>\n",
       "      <td>87.216106</td>\n",
       "    </tr>\n",
       "    <tr>\n",
       "      <th>1406</th>\n",
       "      <td>0xffcf75bd0b598fb0ae994d81955da7c032e7d1c1</td>\n",
       "      <td>1.933797</td>\n",
       "    </tr>\n",
       "    <tr>\n",
       "      <th>1407</th>\n",
       "      <td>0xffcfa5f7b994aeb4c6931e0a6cd95d8984e038ce</td>\n",
       "      <td>548.911841</td>\n",
       "    </tr>\n",
       "  </tbody>\n",
       "</table>\n",
       "<p>1408 rows × 2 columns</p>\n",
       "</div>"
      ],
      "text/plain": [
       "                                    user_address     balance\n",
       "0     0x0056d1fd2ca3c0f3a7b6ed6cdd1f1f104b4bf9a9   10.267250\n",
       "1     0x0058ed26f567453ca826b60dbf09ef5465b7feab   16.856335\n",
       "2     0x006217c11f51611d9848d17550bc4b03fe02deb0  194.466152\n",
       "3     0x006b4b47c7f404335c87e85355e217305f97e789  657.877195\n",
       "4     0x0079f92ba09c15b21a62ba97caaf2e3aa4531643   56.550508\n",
       "...                                          ...         ...\n",
       "1403  0xff18311ccdbe86e54d266f07eaec2668bee9f9f3    7.221864\n",
       "1404  0xff597632d59c49e918fe26cda385f37a0db8a713  292.955568\n",
       "1405  0xff6a59e3b0955bf1774e10ff8fc059938cddbca0   87.216106\n",
       "1406  0xffcf75bd0b598fb0ae994d81955da7c032e7d1c1    1.933797\n",
       "1407  0xffcfa5f7b994aeb4c6931e0a6cd95d8984e038ce  548.911841\n",
       "\n",
       "[1408 rows x 2 columns]"
      ]
     },
     "execution_count": 101,
     "metadata": {},
     "output_type": "execute_result"
    }
   ],
   "source": [
    "agg =  pd.concat([dis_df, # ucvx distributor\n",
    "         df[df['token'] == 'pxcvx'][['user_address', 'balance']], # pxcvx\n",
    "         lp_df, # liquidity providers\n",
    "         ucvx_df[['user_address', 'balance']]], #ucvx\n",
    "          axis=0\n",
    "         )\n",
    "agg = agg.groupby('user_address').sum().reset_index()\n",
    "agg"
   ]
  },
  {
   "cell_type": "code",
   "execution_count": 115,
   "id": "1331ab40-6599-4d3f-a4a5-3614f5bd7300",
   "metadata": {},
   "outputs": [],
   "source": [
    "final = agg.set_index('user_address')['balance'].to_dict()\n",
    "with open('allocations.json', 'w') as fp:\n",
    "    json.dump(final, fp, indent=4)"
   ]
  }
 ],
 "metadata": {
  "kernelspec": {
   "display_name": "Python 3 (ipykernel)",
   "language": "python",
   "name": "python3"
  },
  "language_info": {
   "codemirror_mode": {
    "name": "ipython",
    "version": 3
   },
   "file_extension": ".py",
   "mimetype": "text/x-python",
   "name": "python",
   "nbconvert_exporter": "python",
   "pygments_lexer": "ipython3",
   "version": "3.10.12"
  }
 },
 "nbformat": 4,
 "nbformat_minor": 5
}
